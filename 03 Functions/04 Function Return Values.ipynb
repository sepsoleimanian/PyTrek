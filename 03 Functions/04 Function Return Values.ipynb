{
 "cells": [
  {
   "cell_type": "code",
   "execution_count": 1,
   "id": "77608134",
   "metadata": {},
   "outputs": [],
   "source": [
    "def find_book(title):\n",
    "  books = ['The Greate Gastby', 'Looking for Alaska']\n",
    "  if title in books:\n",
    "    return True\n",
    "  else:\n",
    "    return False"
   ]
  },
  {
   "cell_type": "code",
   "execution_count": 3,
   "id": "9a6b0798",
   "metadata": {},
   "outputs": [
    {
     "data": {
      "text/plain": [
       "True"
      ]
     },
     "execution_count": 3,
     "metadata": {},
     "output_type": "execute_result"
    }
   ],
   "source": [
    "book_exist = find_book('The Greate Gastby')\n",
    "book_exist"
   ]
  },
  {
   "cell_type": "code",
   "execution_count": 4,
   "id": "b2bf4528",
   "metadata": {},
   "outputs": [],
   "source": [
    "def artithmetic(a,c):\n",
    "  return a + c, a - c"
   ]
  },
  {
   "cell_type": "code",
   "execution_count": 5,
   "id": "2da13f63",
   "metadata": {},
   "outputs": [
    {
     "data": {
      "text/plain": [
       "(17, -7)"
      ]
     },
     "execution_count": 5,
     "metadata": {},
     "output_type": "execute_result"
    }
   ],
   "source": [
    "artithmetic(5, 12)"
   ]
  },
  {
   "cell_type": "code",
   "execution_count": 6,
   "id": "4149990e",
   "metadata": {},
   "outputs": [
    {
     "data": {
      "text/plain": [
       "tuple"
      ]
     },
     "execution_count": 6,
     "metadata": {},
     "output_type": "execute_result"
    }
   ],
   "source": [
    "type(artithmetic(5, 12))"
   ]
  },
  {
   "cell_type": "code",
   "execution_count": 7,
   "id": "e45b795b",
   "metadata": {},
   "outputs": [],
   "source": [
    "def say_hello(name):\n",
    "  print(\"Hi \" + name)"
   ]
  },
  {
   "cell_type": "code",
   "execution_count": 9,
   "id": "e72bff4e",
   "metadata": {},
   "outputs": [
    {
     "name": "stdout",
     "output_type": "stream",
     "text": [
      "Hi sepideh\n"
     ]
    }
   ],
   "source": [
    "# this is not the output of the func. just a print\n",
    "say_hello('sepideh')"
   ]
  },
  {
   "cell_type": "code",
   "execution_count": 12,
   "id": "113f70dd",
   "metadata": {},
   "outputs": [
    {
     "name": "stdout",
     "output_type": "stream",
     "text": [
      "Hi sepideh\n",
      "None\n"
     ]
    }
   ],
   "source": [
    "# None is the output of the function\n",
    "output = say_hello('sepideh')\n",
    "print(output)"
   ]
  },
  {
   "cell_type": "code",
   "execution_count": 13,
   "id": "124b7dcb",
   "metadata": {},
   "outputs": [],
   "source": [
    "# Return is the end of a function"
   ]
  },
  {
   "cell_type": "code",
   "execution_count": 14,
   "id": "c58c4744",
   "metadata": {},
   "outputs": [],
   "source": [
    "def process_number(number):\n",
    "  if type(number) != int:\n",
    "    return\n",
    "  if number % 2 == 0:\n",
    "    return f'{number} is an even number'\n",
    "  else:\n",
    "    return f'{number} is an odd number'"
   ]
  },
  {
   "cell_type": "code",
   "execution_count": 15,
   "id": "78b11888",
   "metadata": {},
   "outputs": [],
   "source": [
    "process_number('str')"
   ]
  },
  {
   "cell_type": "code",
   "execution_count": 16,
   "id": "e35fe3ab",
   "metadata": {},
   "outputs": [
    {
     "data": {
      "text/plain": [
       "'9 is an odd number'"
      ]
     },
     "execution_count": 16,
     "metadata": {},
     "output_type": "execute_result"
    }
   ],
   "source": [
    "process_number(9)"
   ]
  },
  {
   "cell_type": "code",
   "execution_count": 17,
   "id": "327cb385",
   "metadata": {},
   "outputs": [
    {
     "data": {
      "text/plain": [
       "'8 is an even number'"
      ]
     },
     "execution_count": 17,
     "metadata": {},
     "output_type": "execute_result"
    }
   ],
   "source": [
    "process_number(8)"
   ]
  }
 ],
 "metadata": {
  "kernelspec": {
   "display_name": "work",
   "language": "python",
   "name": "python3"
  },
  "language_info": {
   "codemirror_mode": {
    "name": "ipython",
    "version": 3
   },
   "file_extension": ".py",
   "mimetype": "text/x-python",
   "name": "python",
   "nbconvert_exporter": "python",
   "pygments_lexer": "ipython3",
   "version": "3.9.21"
  }
 },
 "nbformat": 4,
 "nbformat_minor": 5
}
