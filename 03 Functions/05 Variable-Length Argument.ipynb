{
 "cells": [
  {
   "cell_type": "code",
   "execution_count": 1,
   "id": "888caae1",
   "metadata": {},
   "outputs": [],
   "source": [
    "def sum_nums(a, b, c):\n",
    "  return a + b + c"
   ]
  },
  {
   "cell_type": "code",
   "execution_count": 2,
   "metadata": {},
   "outputs": [
    {
     "data": {
      "text/plain": [
       "6"
      ]
     },
     "execution_count": 2,
     "metadata": {},
     "output_type": "execute_result"
    }
   ],
   "source": [
    "sum_nums(1, 2, 3)"
   ]
  },
  {
   "cell_type": "code",
   "execution_count": 8,
   "id": "e899ae74",
   "metadata": {},
   "outputs": [],
   "source": [
    "# using tuple pcking and unpacking, we can give a function not certain number of args\n",
    "# * is like a black hole!\n",
    "def sum_num_2(*args):\n",
    "  print(args)"
   ]
  },
  {
   "cell_type": "code",
   "execution_count": 9,
   "id": "c2de4aa1",
   "metadata": {},
   "outputs": [
    {
     "name": "stdout",
     "output_type": "stream",
     "text": [
      "(1, 2)\n"
     ]
    }
   ],
   "source": [
    "sum_num_2(1, 2)"
   ]
  },
  {
   "cell_type": "code",
   "execution_count": 10,
   "id": "1250c9a7",
   "metadata": {},
   "outputs": [
    {
     "name": "stdout",
     "output_type": "stream",
     "text": [
      "(8, 7, 2)\n"
     ]
    }
   ],
   "source": [
    "sum_num_2(8, 7, 2)"
   ]
  },
  {
   "cell_type": "code",
   "execution_count": 11,
   "id": "6ac81d38",
   "metadata": {},
   "outputs": [],
   "source": [
    "def sum_num_3(a, b, *args):\n",
    "  print(args)"
   ]
  },
  {
   "cell_type": "code",
   "execution_count": 13,
   "id": "dc05aa31",
   "metadata": {},
   "outputs": [
    {
     "name": "stdout",
     "output_type": "stream",
     "text": [
      "(6, 7, 8)\n"
     ]
    }
   ],
   "source": [
    "# a = 3, b = 5 and the rest are in args\n",
    "sum_num_3(3, 5, 6, 7, 8)"
   ]
  },
  {
   "cell_type": "code",
   "execution_count": 15,
   "id": "919d4a59",
   "metadata": {},
   "outputs": [
    {
     "name": "stdout",
     "output_type": "stream",
     "text": [
      "(1, 2, 3, 4, 5, 6)\n"
     ]
    }
   ],
   "source": [
    "# using t as input of sum_num_2\n",
    "t = (1, 2, 3, 4, 5, 6)\n",
    "sum_num_2(*t)"
   ]
  },
  {
   "cell_type": "code",
   "execution_count": 17,
   "metadata": {},
   "outputs": [],
   "source": [
    "y = 1, 2, 3, 4, 5, 6\n",
    "a, b, *rest = y"
   ]
  },
  {
   "cell_type": "code",
   "execution_count": 19,
   "id": "69a130ee",
   "metadata": {},
   "outputs": [
    {
     "data": {
      "text/plain": [
       "[3, 4, 5, 6]"
      ]
     },
     "execution_count": 19,
     "metadata": {},
     "output_type": "execute_result"
    }
   ],
   "source": [
    "rest"
   ]
  },
  {
   "cell_type": "code",
   "execution_count": 20,
   "id": "56efb368",
   "metadata": {},
   "outputs": [
    {
     "data": {
      "text/plain": [
       "1"
      ]
     },
     "execution_count": 20,
     "metadata": {},
     "output_type": "execute_result"
    }
   ],
   "source": [
    "a"
   ]
  },
  {
   "cell_type": "code",
   "execution_count": 21,
   "id": "576a0021",
   "metadata": {},
   "outputs": [
    {
     "data": {
      "text/plain": [
       "2"
      ]
     },
     "execution_count": 21,
     "metadata": {},
     "output_type": "execute_result"
    }
   ],
   "source": [
    "b"
   ]
  },
  {
   "cell_type": "code",
   "execution_count": 22,
   "id": "acf57627",
   "metadata": {},
   "outputs": [],
   "source": [
    "databse = [\n",
    "  (1, 2, 3, 4, 5),\n",
    "  (6, 7, 8, 9, 10),\n",
    "  (11, 12, 13, 14, 15)\n",
    "]"
   ]
  },
  {
   "cell_type": "code",
   "execution_count": 23,
   "metadata": {},
   "outputs": [
    {
     "name": "stdout",
     "output_type": "stream",
     "text": [
      "(1, 2, 3, 4, 5)\n",
      "(6, 7, 8, 9, 10)\n",
      "(11, 12, 13, 14, 15)\n"
     ]
    }
   ],
   "source": [
    "for t in databse:\n",
    "  sum_num_2(*t)"
   ]
  },
  {
   "cell_type": "code",
   "execution_count": 24,
   "id": "51f4ea1f",
   "metadata": {},
   "outputs": [],
   "source": [
    "names = [\n",
    "  'Sepideh',\n",
    "  'Sepehr',\n",
    "  'Sogand'\n",
    "]"
   ]
  },
  {
   "cell_type": "code",
   "execution_count": 26,
   "metadata": {},
   "outputs": [],
   "source": [
    "def concat_string(seperator, *args):\n",
    "  return seperator.join(args)"
   ]
  },
  {
   "cell_type": "code",
   "execution_count": 27,
   "metadata": {},
   "outputs": [
    {
     "data": {
      "text/plain": [
       "'Sepideh - Sepehr - Sogand'"
      ]
     },
     "execution_count": 27,
     "metadata": {},
     "output_type": "execute_result"
    }
   ],
   "source": [
    "concat_string(' - ', *names)"
   ]
  },
  {
   "cell_type": "code",
   "execution_count": 28,
   "id": "8e47b768",
   "metadata": {},
   "outputs": [
    {
     "data": {
      "text/plain": [
       "'Sepideh, Sepehr, Sogand'"
      ]
     },
     "execution_count": 28,
     "metadata": {},
     "output_type": "execute_result"
    }
   ],
   "source": [
    "concat_string(', ', *names)"
   ]
  },
  {
   "cell_type": "code",
   "execution_count": 29,
   "metadata": {},
   "outputs": [],
   "source": [
    "t = (1, 2, 3)\n",
    "d = {'name' : 'sepideh', 'age': 'Tehran'}"
   ]
  },
  {
   "cell_type": "code",
   "execution_count": 31,
   "id": "c6b4c623",
   "metadata": {},
   "outputs": [],
   "source": [
    "new_d = {**d, 'city': 'tehran'}"
   ]
  },
  {
   "cell_type": "code",
   "execution_count": 32,
   "id": "5ae92578",
   "metadata": {},
   "outputs": [
    {
     "data": {
      "text/plain": [
       "{'name': 'sepideh', 'age': 'Tehran', 'city': 'tehran'}"
      ]
     },
     "execution_count": 32,
     "metadata": {},
     "output_type": "execute_result"
    }
   ],
   "source": [
    "new_d"
   ]
  },
  {
   "cell_type": "code",
   "execution_count": 36,
   "id": "44231cdc",
   "metadata": {},
   "outputs": [],
   "source": [
    "# as dict\n",
    "def introduce_yourself(**kwargs):\n",
    "  print(kwargs)"
   ]
  },
  {
   "cell_type": "code",
   "execution_count": 37,
   "id": "83661100",
   "metadata": {},
   "outputs": [
    {
     "name": "stdout",
     "output_type": "stream",
     "text": [
      "{'Name': 'Sepideh', 'Age': 24, 'Lan': 'Farsi'}\n"
     ]
    }
   ],
   "source": [
    "introduce_yourself(\n",
    "  Name = 'Sepideh',\n",
    "  Age = 24,\n",
    "  Lan = 'Farsi'\n",
    ")"
   ]
  },
  {
   "cell_type": "code",
   "execution_count": 41,
   "id": "a2863f3d",
   "metadata": {},
   "outputs": [],
   "source": [
    "# as dict\n",
    "def introduce_yourself(name, **kwargs):\n",
    "  print(name)\n",
    "  print(kwargs)"
   ]
  },
  {
   "cell_type": "code",
   "execution_count": 42,
   "metadata": {},
   "outputs": [
    {
     "name": "stdout",
     "output_type": "stream",
     "text": [
      "Sepideh\n",
      "{'Age': 24, 'Lan': 'Farsi'}\n"
     ]
    }
   ],
   "source": [
    "introduce_yourself(\n",
    "  'Sepideh',\n",
    "  Age = 24,\n",
    "  Lan = 'Farsi'\n",
    ")"
   ]
  },
  {
   "cell_type": "markdown",
   "id": "b1140a62",
   "metadata": {},
   "source": [
    "### NEED MORE EXCERCISE"
   ]
  }
 ],
 "metadata": {
  "kernelspec": {
   "display_name": "work",
   "language": "python",
   "name": "python3"
  },
  "language_info": {
   "codemirror_mode": {
    "name": "ipython",
    "version": 3
   },
   "file_extension": ".py",
   "mimetype": "text/x-python",
   "name": "python",
   "nbconvert_exporter": "python",
   "pygments_lexer": "ipython3",
   "version": "3.9.21"
  }
 },
 "nbformat": 4,
 "nbformat_minor": 5
}
