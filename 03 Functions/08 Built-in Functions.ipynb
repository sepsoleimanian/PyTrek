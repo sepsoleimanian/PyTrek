{
 "cells": [
  {
   "cell_type": "code",
   "execution_count": 1,
   "id": "6e795855",
   "metadata": {},
   "outputs": [],
   "source": [
    "l = [1, 2, 3]"
   ]
  },
  {
   "cell_type": "code",
   "execution_count": 3,
   "metadata": {},
   "outputs": [
    {
     "data": {
      "text/plain": [
       "3"
      ]
     },
     "execution_count": 3,
     "metadata": {},
     "output_type": "execute_result"
    }
   ],
   "source": [
    "len(l)"
   ]
  },
  {
   "cell_type": "code",
   "execution_count": 4,
   "metadata": {},
   "outputs": [
    {
     "data": {
      "text/plain": [
       "139735609915136"
      ]
     },
     "execution_count": 4,
     "metadata": {},
     "output_type": "execute_result"
    }
   ],
   "source": [
    "id(l)"
   ]
  },
  {
   "cell_type": "code",
   "execution_count": 6,
   "metadata": {},
   "outputs": [
    {
     "data": {
      "text/plain": [
       "1"
      ]
     },
     "execution_count": 6,
     "metadata": {},
     "output_type": "execute_result"
    }
   ],
   "source": [
    "min(l)"
   ]
  },
  {
   "cell_type": "code",
   "execution_count": 7,
   "metadata": {},
   "outputs": [
    {
     "data": {
      "text/plain": [
       "3"
      ]
     },
     "execution_count": 7,
     "metadata": {},
     "output_type": "execute_result"
    }
   ],
   "source": [
    "max(l)"
   ]
  },
  {
   "cell_type": "code",
   "execution_count": 10,
   "id": "234b5047",
   "metadata": {},
   "outputs": [
    {
     "data": {
      "text/plain": [
       "6"
      ]
     },
     "execution_count": 10,
     "metadata": {},
     "output_type": "execute_result"
    }
   ],
   "source": [
    "sum(l)"
   ]
  },
  {
   "cell_type": "code",
   "execution_count": 11,
   "id": "f4232184",
   "metadata": {},
   "outputs": [
    {
     "data": {
      "text/plain": [
       "5"
      ]
     },
     "execution_count": 11,
     "metadata": {},
     "output_type": "execute_result"
    }
   ],
   "source": [
    "abs(-5)"
   ]
  },
  {
   "cell_type": "code",
   "execution_count": 12,
   "id": "fbce6b23",
   "metadata": {},
   "outputs": [
    {
     "data": {
      "text/plain": [
       "5.0"
      ]
     },
     "execution_count": 12,
     "metadata": {},
     "output_type": "execute_result"
    }
   ],
   "source": [
    "abs(3 + 4j)"
   ]
  },
  {
   "cell_type": "code",
   "execution_count": 13,
   "id": "60cd8917",
   "metadata": {},
   "outputs": [
    {
     "data": {
      "text/plain": [
       "9"
      ]
     },
     "execution_count": 13,
     "metadata": {},
     "output_type": "execute_result"
    }
   ],
   "source": [
    "round(9.23456789876)"
   ]
  },
  {
   "cell_type": "code",
   "execution_count": 14,
   "id": "9772d194",
   "metadata": {},
   "outputs": [
    {
     "data": {
      "text/plain": [
       "8.99"
      ]
     },
     "execution_count": 14,
     "metadata": {},
     "output_type": "execute_result"
    }
   ],
   "source": [
    "round(8.98765, 2)"
   ]
  },
  {
   "cell_type": "code",
   "execution_count": 21,
   "id": "8eb65e6e",
   "metadata": {},
   "outputs": [
    {
     "ename": "TypeError",
     "evalue": "'int' object is not callable",
     "output_type": "error",
     "traceback": [
      "\u001b[0;31m---------------------------------------------------------------------------\u001b[0m",
      "\u001b[0;31mTypeError\u001b[0m                                 Traceback (most recent call last)",
      "Cell \u001b[0;32mIn[21], line 4\u001b[0m\n\u001b[1;32m      1\u001b[0m \u001b[38;5;66;03m# here, sum has gir assinged to a var and cannot be used\u001b[39;00m\n\u001b[1;32m      2\u001b[0m \u001b[38;5;66;03m# as func anymore\u001b[39;00m\n\u001b[1;32m      3\u001b[0m \u001b[38;5;28msum\u001b[39m \u001b[38;5;241m=\u001b[39m \u001b[38;5;241m2\u001b[39m \u001b[38;5;241m+\u001b[39m \u001b[38;5;241m3\u001b[39m\n\u001b[0;32m----> 4\u001b[0m \u001b[38;5;28;43msum\u001b[39;49m\u001b[43m(\u001b[49m\u001b[43ml\u001b[49m\u001b[43m)\u001b[49m\n",
      "\u001b[0;31mTypeError\u001b[0m: 'int' object is not callable"
     ]
    }
   ],
   "source": [
    "# here, sum has gir assinged to a var and cannot be used\n",
    "# as func anymore\n",
    "sum = 2 + 3\n",
    "sum(l)"
   ]
  },
  {
   "cell_type": "code",
   "execution_count": 24,
   "id": "dadd85c7",
   "metadata": {},
   "outputs": [
    {
     "data": {
      "text/plain": [
       "6"
      ]
     },
     "execution_count": 24,
     "metadata": {},
     "output_type": "execute_result"
    }
   ],
   "source": [
    "# delete the var and then use it as func\n",
    "# overall, do not override on built-in funcs\n",
    "sum = 2 + 3\n",
    "del sum\n",
    "sum(l)"
   ]
  },
  {
   "cell_type": "code",
   "execution_count": 25,
   "id": "40fd8dfd",
   "metadata": {},
   "outputs": [
    {
     "data": {
      "text/plain": [
       "81"
      ]
     },
     "execution_count": 25,
     "metadata": {},
     "output_type": "execute_result"
    }
   ],
   "source": [
    "pow(3, 4)"
   ]
  },
  {
   "cell_type": "code",
   "execution_count": 26,
   "id": "cb46a3d0",
   "metadata": {},
   "outputs": [
    {
     "data": {
      "text/plain": [
       "81"
      ]
     },
     "execution_count": 26,
     "metadata": {},
     "output_type": "execute_result"
    }
   ],
   "source": [
    "3 * 3 * 3 * 3"
   ]
  },
  {
   "cell_type": "code",
   "execution_count": 29,
   "id": "009223c8",
   "metadata": {},
   "outputs": [
    {
     "data": {
      "text/plain": [
       "81"
      ]
     },
     "execution_count": 29,
     "metadata": {},
     "output_type": "execute_result"
    }
   ],
   "source": [
    "3 ** 4"
   ]
  },
  {
   "cell_type": "code",
   "execution_count": 30,
   "id": "ffb7657d",
   "metadata": {},
   "outputs": [
    {
     "data": {
      "text/plain": [
       "'1'"
      ]
     },
     "execution_count": 30,
     "metadata": {},
     "output_type": "execute_result"
    }
   ],
   "source": [
    "str(1)"
   ]
  },
  {
   "cell_type": "code",
   "execution_count": 31,
   "id": "16bc753d",
   "metadata": {},
   "outputs": [
    {
     "data": {
      "text/plain": [
       "int"
      ]
     },
     "execution_count": 31,
     "metadata": {},
     "output_type": "execute_result"
    }
   ],
   "source": [
    "type(1)"
   ]
  },
  {
   "cell_type": "code",
   "execution_count": 33,
   "id": "35307f76",
   "metadata": {},
   "outputs": [
    {
     "data": {
      "text/plain": [
       "str"
      ]
     },
     "execution_count": 33,
     "metadata": {},
     "output_type": "execute_result"
    }
   ],
   "source": [
    "type(str(1))"
   ]
  },
  {
   "cell_type": "code",
   "execution_count": 35,
   "id": "c07afe6f",
   "metadata": {},
   "outputs": [
    {
     "data": {
      "text/plain": [
       "[0, 1, 2, 3, 4, 5, 6, 7, 8, 9]"
      ]
     },
     "execution_count": 35,
     "metadata": {},
     "output_type": "execute_result"
    }
   ],
   "source": [
    "list(range(10))"
   ]
  },
  {
   "cell_type": "code",
   "execution_count": 36,
   "id": "2761a380",
   "metadata": {},
   "outputs": [
    {
     "data": {
      "text/plain": [
       "[5, 6, 7, 8, 9]"
      ]
     },
     "execution_count": 36,
     "metadata": {},
     "output_type": "execute_result"
    }
   ],
   "source": [
    "list(range(5, 10))"
   ]
  },
  {
   "cell_type": "code",
   "execution_count": 38,
   "id": "e1b14c4c",
   "metadata": {},
   "outputs": [
    {
     "data": {
      "text/plain": [
       "[5, 7, 9, 11, 13]"
      ]
     },
     "execution_count": 38,
     "metadata": {},
     "output_type": "execute_result"
    }
   ],
   "source": [
    "list(range(5, 15, 2))"
   ]
  },
  {
   "cell_type": "code",
   "execution_count": 42,
   "id": "47a9bcd8",
   "metadata": {},
   "outputs": [
    {
     "data": {
      "text/plain": [
       "[-19, -1, 0, 3, 5, 8]"
      ]
     },
     "execution_count": 42,
     "metadata": {},
     "output_type": "execute_result"
    }
   ],
   "source": [
    "list(sorted([-1, 5, 3, 8, -19, 0]))"
   ]
  },
  {
   "cell_type": "code",
   "execution_count": 46,
   "id": "43391e1e",
   "metadata": {},
   "outputs": [
    {
     "data": {
      "text/plain": [
       "[-19, -1, 5, 3, 8, 0]"
      ]
     },
     "execution_count": 46,
     "metadata": {},
     "output_type": "execute_result"
    }
   ],
   "source": [
    "list(sorted([-1, 5, 3, 8, -19, 0], key = lambda x: x // 10))"
   ]
  },
  {
   "cell_type": "code",
   "execution_count": 44,
   "id": "ecd2fdb2",
   "metadata": {},
   "outputs": [
    {
     "data": {
      "text/plain": [
       "[2, 4, 6, 8, 10, 12]"
      ]
     },
     "execution_count": 44,
     "metadata": {},
     "output_type": "execute_result"
    }
   ],
   "source": [
    "list(map(lambda x: 2*x, [1, 2, 3, 4, 5, 6]))"
   ]
  },
  {
   "cell_type": "code",
   "execution_count": 49,
   "id": "9c1f2e17",
   "metadata": {},
   "outputs": [
    {
     "data": {
      "text/plain": [
       "[('sepideh', 'soleimanian'), ('sogand', 'khaari'), ('mina', 'sabeti')]"
      ]
     },
     "execution_count": 49,
     "metadata": {},
     "output_type": "execute_result"
    }
   ],
   "source": [
    "list(zip(['sepideh', 'sogand', 'mina'], ['soleimanian', 'khaari', 'sabeti']))"
   ]
  },
  {
   "cell_type": "code",
   "execution_count": 50,
   "id": "38becc00",
   "metadata": {},
   "outputs": [],
   "source": [
    "first_name = ['sepideh', 'sogand', 'mina']\n",
    "last_name = ['soleimanian', 'khaari', 'sabeti']"
   ]
  },
  {
   "cell_type": "code",
   "execution_count": 51,
   "id": "7698fc48",
   "metadata": {},
   "outputs": [
    {
     "name": "stdout",
     "output_type": "stream",
     "text": [
      "sepideh soleimanian\n",
      "sogand khaari\n",
      "mina sabeti\n"
     ]
    }
   ],
   "source": [
    "for first_name, last_name in zip(first_name, last_name):\n",
    "  print(first_name, last_name)"
   ]
  },
  {
   "cell_type": "code",
   "execution_count": 55,
   "id": "f7a694e6",
   "metadata": {},
   "outputs": [],
   "source": [
    "# if len if two lists are not equal, use the shortest len\n",
    "first_name = ['sepideh', 'sogand']\n",
    "last_name = ['soleimanian', 'khaari', 'sabeti']"
   ]
  },
  {
   "cell_type": "code",
   "execution_count": 56,
   "id": "6a65e226",
   "metadata": {},
   "outputs": [
    {
     "name": "stdout",
     "output_type": "stream",
     "text": [
      "sepideh soleimanian\n",
      "sogand khaari\n"
     ]
    }
   ],
   "source": [
    "for first_name, last_name in zip(first_name, last_name):\n",
    "  print(first_name, last_name)"
   ]
  },
  {
   "cell_type": "code",
   "execution_count": 57,
   "id": "a53e9260",
   "metadata": {},
   "outputs": [],
   "source": [
    "# all builtin funcs, return a copy of data. they do not work inplace"
   ]
  }
 ],
 "metadata": {
  "kernelspec": {
   "display_name": "work",
   "language": "python",
   "name": "python3"
  },
  "language_info": {
   "codemirror_mode": {
    "name": "ipython",
    "version": 3
   },
   "file_extension": ".py",
   "mimetype": "text/x-python",
   "name": "python",
   "nbconvert_exporter": "python",
   "pygments_lexer": "ipython3",
   "version": "3.9.21"
  }
 },
 "nbformat": 4,
 "nbformat_minor": 5
}
