{
 "cells": [
  {
   "cell_type": "code",
   "execution_count": 9,
   "id": "6e1ef2f7",
   "metadata": {},
   "outputs": [],
   "source": [
    "# only defenition is different. usage is the same\n",
    "\n",
    "def square_1(num):\n",
    "  return num * num\n",
    "\n",
    "\n",
    "\n",
    "square_2 = lambda x: x * x"
   ]
  },
  {
   "cell_type": "code",
   "execution_count": 6,
   "metadata": {},
   "outputs": [
    {
     "data": {
      "text/plain": [
       "4"
      ]
     },
     "execution_count": 6,
     "metadata": {},
     "output_type": "execute_result"
    }
   ],
   "source": [
    "square_1(2)"
   ]
  },
  {
   "cell_type": "code",
   "execution_count": 7,
   "metadata": {},
   "outputs": [
    {
     "data": {
      "text/plain": [
       "4"
      ]
     },
     "execution_count": 7,
     "metadata": {},
     "output_type": "execute_result"
    }
   ],
   "source": [
    "square_2(2)"
   ]
  },
  {
   "cell_type": "code",
   "execution_count": 11,
   "id": "083bcd7b",
   "metadata": {},
   "outputs": [],
   "source": [
    "# Syntax:\n",
    "# lambda arguments: expression"
   ]
  },
  {
   "cell_type": "code",
   "execution_count": 12,
   "id": "7ff798d6",
   "metadata": {},
   "outputs": [],
   "source": [
    "f = lambda x, y: x + y"
   ]
  },
  {
   "cell_type": "code",
   "execution_count": null,
   "id": "0ecb23b4",
   "metadata": {},
   "outputs": [
    {
     "data": {
      "text/plain": [
       "9"
      ]
     },
     "execution_count": 13,
     "metadata": {},
     "output_type": "execute_result"
    }
   ],
   "source": [
    "f(4, 5)"
   ]
  },
  {
   "cell_type": "code",
   "execution_count": 16,
   "id": "d05b1354",
   "metadata": {},
   "outputs": [
    {
     "data": {
      "text/plain": [
       "<map at 0x7fb3d66423a0>"
      ]
     },
     "execution_count": 16,
     "metadata": {},
     "output_type": "execute_result"
    }
   ],
   "source": [
    "# Map takes a func and a iterable and apply it to all elements of that iterable\n",
    "map(square_2, [3, 4, 5, 6])"
   ]
  },
  {
   "cell_type": "code",
   "execution_count": 15,
   "id": "1d229809",
   "metadata": {},
   "outputs": [
    {
     "data": {
      "text/plain": [
       "[9, 16, 25, 36]"
      ]
     },
     "execution_count": 15,
     "metadata": {},
     "output_type": "execute_result"
    }
   ],
   "source": [
    "list(map(square_2, [3, 4, 5, 6]))"
   ]
  },
  {
   "cell_type": "code",
   "execution_count": 18,
   "id": "874c8f21",
   "metadata": {},
   "outputs": [
    {
     "data": {
      "text/plain": [
       "[8, 16, 24, 32, 40]"
      ]
     },
     "execution_count": 18,
     "metadata": {},
     "output_type": "execute_result"
    }
   ],
   "source": [
    "# first arg of map can be a lambda func\n",
    "list(map(lambda x: x * 8, [1, 2, 3, 4, 5]))"
   ]
  },
  {
   "cell_type": "code",
   "execution_count": 21,
   "id": "6f9a1750",
   "metadata": {},
   "outputs": [
    {
     "data": {
      "text/plain": [
       "[2, 4, 6]"
      ]
     },
     "execution_count": 21,
     "metadata": {},
     "output_type": "execute_result"
    }
   ],
   "source": [
    "# filter takes a func and a iterable and return those elments\n",
    "# and return those elements of iterbale that are true\n",
    "list(filter(lambda x: x % 2 == 0, [1, 2, 3, 4, 5, 6]))"
   ]
  },
  {
   "cell_type": "code",
   "execution_count": 23,
   "id": "cda890a1",
   "metadata": {},
   "outputs": [
    {
     "data": {
      "text/plain": [
       "[-1, 1, 2, 3, 5, 8]"
      ]
     },
     "execution_count": 23,
     "metadata": {},
     "output_type": "execute_result"
    }
   ],
   "source": [
    "sorted([1, 5, 8, 3,2 , -1])"
   ]
  },
  {
   "cell_type": "code",
   "execution_count": 32,
   "id": "87df305e",
   "metadata": {},
   "outputs": [
    {
     "data": {
      "text/plain": [
       "[(1, 2), (3, 4), (5, 8), (-1, 9)]"
      ]
     },
     "execution_count": 32,
     "metadata": {},
     "output_type": "execute_result"
    }
   ],
   "source": [
    "# Sort based on x[1]\n",
    "sorted(\n",
    "  [(1, 2), (3, 4), (5, 8), (-1, 9)],\n",
    "  key = lambda x: x[1]\n",
    ")"
   ]
  },
  {
   "cell_type": "code",
   "execution_count": 33,
   "id": "246dbc37",
   "metadata": {},
   "outputs": [],
   "source": [
    "names = [\n",
    "  {'first': 'Rusty', 'last': 'Steele'},\n",
    "  {'first': 'Colt', 'last': 'Smith'},\n",
    "  {'first': 'Blue', 'last': 'Roben'},\n",
    "]"
   ]
  },
  {
   "cell_type": "code",
   "execution_count": 34,
   "id": "49381afe",
   "metadata": {},
   "outputs": [
    {
     "data": {
      "text/plain": [
       "[{'first': 'Blue', 'last': 'Roben'},\n",
       " {'first': 'Colt', 'last': 'Smith'},\n",
       " {'first': 'Rusty', 'last': 'Steele'}]"
      ]
     },
     "execution_count": 34,
     "metadata": {},
     "output_type": "execute_result"
    }
   ],
   "source": [
    "sorted(\n",
    "  names,\n",
    "  key = lambda x: x['last']\n",
    ")"
   ]
  }
 ],
 "metadata": {
  "kernelspec": {
   "display_name": "work",
   "language": "python",
   "name": "python3"
  },
  "language_info": {
   "codemirror_mode": {
    "name": "ipython",
    "version": 3
   },
   "file_extension": ".py",
   "mimetype": "text/x-python",
   "name": "python",
   "nbconvert_exporter": "python",
   "pygments_lexer": "ipython3",
   "version": "3.9.21"
  }
 },
 "nbformat": 4,
 "nbformat_minor": 5
}
