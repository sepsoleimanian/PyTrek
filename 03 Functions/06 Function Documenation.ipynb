{
 "cells": [
  {
   "cell_type": "code",
   "execution_count": null,
   "id": "d8890213",
   "metadata": {},
   "outputs": [],
   "source": [
    "def add(a, b):\n",
    "  \"\"\" This function adds two numbers \n",
    "  together and returns the result.\n",
    "  \n",
    "  :param: the first number\n",
    "  :param: the second number\n",
    "  \n",
    "  :return: the sume of a and b\n",
    "  \"\"\"\n",
    "  return a + b"
   ]
  },
  {
   "cell_type": "code",
   "execution_count": 3,
   "metadata": {},
   "outputs": [
    {
     "data": {
      "text/plain": [
       "'\\n  DocString\\n  '"
      ]
     },
     "execution_count": 3,
     "metadata": {},
     "output_type": "execute_result"
    }
   ],
   "source": [
    "add.__doc__"
   ]
  },
  {
   "cell_type": "code",
   "execution_count": 4,
   "id": "72334731",
   "metadata": {},
   "outputs": [
    {
     "name": "stdout",
     "output_type": "stream",
     "text": [
      "Help on function add in module __main__:\n",
      "\n",
      "add(a, b)\n",
      "    DocString\n",
      "\n"
     ]
    }
   ],
   "source": [
    "help(add)"
   ]
  },
  {
   "cell_type": "code",
   "execution_count": 10,
   "id": "a4b28edb",
   "metadata": {},
   "outputs": [
    {
     "name": "stdout",
     "output_type": "stream",
     "text": [
      "\u001b[0;31mSignature:\u001b[0m \u001b[0madd\u001b[0m\u001b[0;34m(\u001b[0m\u001b[0ma\u001b[0m\u001b[0;34m,\u001b[0m \u001b[0mb\u001b[0m\u001b[0;34m)\u001b[0m\u001b[0;34m\u001b[0m\u001b[0;34m\u001b[0m\u001b[0m\n",
      "\u001b[0;31mDocstring:\u001b[0m\n",
      "Adds two numbers together.\n",
      "\n",
      "Args:\n",
      "    a (int or float): The first number.\n",
      "    b (int or float): The second number.\n",
      "\n",
      "Returns:\n",
      "    (int or float): The sum of a and b.\n",
      "\u001b[0;31mFile:\u001b[0m      /tmp/ipykernel_48534/732610134.py\n",
      "\u001b[0;31mType:\u001b[0m      function"
     ]
    }
   ],
   "source": [
    "add?"
   ]
  },
  {
   "cell_type": "code",
   "execution_count": 11,
   "id": "4441b187",
   "metadata": {},
   "outputs": [
    {
     "name": "stdout",
     "output_type": "stream",
     "text": [
      "\u001b[0;31mType:\u001b[0m        int\n",
      "\u001b[0;31mString form:\u001b[0m 2\n",
      "\u001b[0;31mDocstring:\u001b[0m  \n",
      "int([x]) -> integer\n",
      "int(x, base=10) -> integer\n",
      "\n",
      "Convert a number or string to an integer, or return 0 if no arguments\n",
      "are given.  If x is a number, return x.__int__().  For floating point\n",
      "numbers, this truncates towards zero.\n",
      "\n",
      "If x is not a number or if base is given, then x must be a string,\n",
      "bytes, or bytearray instance representing an integer literal in the\n",
      "given base.  The literal can be preceded by '+' or '-' and be surrounded\n",
      "by whitespace.  The base defaults to 10.  Valid bases are 0 and 2-36.\n",
      "Base 0 means to interpret the base from the string as an integer literal.\n",
      ">>> int('0b100', base=0)\n",
      "4"
     ]
    }
   ],
   "source": [
    "x = 2\n",
    "x?"
   ]
  },
  {
   "cell_type": "code",
   "execution_count": null,
   "id": "6ecae237",
   "metadata": {},
   "outputs": [],
   "source": [
    "# Google Style\n",
    "def add(a, b):\n",
    "  \"\"\"\n",
    "Adds two numbers together.\n",
    "\n",
    "\n",
    "Args:\n",
    "    a (int or float): The first number.\n",
    "    b (int or float): The second number.\n",
    "\n",
    "Returns:\n",
    "    (int or float): The sum of a and b.\n",
    "\"\"\"\n",
    "  return a + b"
   ]
  },
  {
   "cell_type": "code",
   "execution_count": 17,
   "id": "d302cb5d",
   "metadata": {},
   "outputs": [],
   "source": [
    "# Numpuy Style\n",
    "def add(a, b):\n",
    "    \"\"\"\n",
    "    Adds two numbers.\n",
    "\n",
    "    Parameters\n",
    "    ----------\n",
    "    a : int or float\n",
    "        The first number.\n",
    "    b : int or float\n",
    "        The second number.\n",
    "\n",
    "    Returns\n",
    "    -------\n",
    "    int or float\n",
    "        The sum of `a` and `b`.\n",
    "\n",
    "    Examples\n",
    "    --------\n",
    "    >>> add(2, 3)\n",
    "    5\n",
    "    >>> add(1.5, 2.5)\n",
    "    4.0\n",
    "    \"\"\"\n",
    "    return a + b"
   ]
  },
  {
   "cell_type": "code",
   "execution_count": 18,
   "id": "aa7bec66",
   "metadata": {},
   "outputs": [],
   "source": [
    "# reSt Style\n",
    "def add(a, b):\n",
    "    \"\"\"\n",
    "    Adds two numbers.\n",
    "\n",
    "    :param a: The first number.\n",
    "    :type a: int or float\n",
    "    :param b: The second number.\n",
    "    :type b: int or float\n",
    "    :returns: The sum of a and b.\n",
    "    :rtype: int or float\n",
    "\n",
    "    :Example:\n",
    "\n",
    "    >>> add(2, 3)\n",
    "    5\n",
    "    >>> add(1.5, 2.5)\n",
    "    4.0\n",
    "    \"\"\"\n",
    "    return a + b"
   ]
  },
  {
   "cell_type": "code",
   "execution_count": 19,
   "id": "86d86ec3",
   "metadata": {},
   "outputs": [],
   "source": [
    "# Epytext Style\n",
    "def add(a, b):\n",
    "    \"\"\"\n",
    "    Adds two numbers.\n",
    "\n",
    "    @param a: The first number.\n",
    "    @type a: {int} or {float}\n",
    "    @param b: The second number.\n",
    "    @type b: {int} or {float}\n",
    "    @return: The sum of a and b.\n",
    "    @rtype: {int} or {float}\n",
    "\n",
    "    @example:\n",
    "    >>> add(2, 3)\n",
    "    5\n",
    "    >>> add(1.5, 2.5)\n",
    "    4.0\n",
    "    \"\"\"\n",
    "    return a + b"
   ]
  },
  {
   "cell_type": "code",
   "execution_count": 22,
   "id": "82860f2e",
   "metadata": {},
   "outputs": [
    {
     "data": {
      "text/plain": [
       "int"
      ]
     },
     "execution_count": 22,
     "metadata": {},
     "output_type": "execute_result"
    }
   ],
   "source": [
    "# this is just for readability. python does not read it\n",
    "x: str = 2\n",
    "\n",
    "type(x)"
   ]
  },
  {
   "cell_type": "code",
   "execution_count": 23,
   "id": "712c2e6c",
   "metadata": {},
   "outputs": [],
   "source": [
    "def add(a: int, b: int) -> int:\n",
    "  return a + b"
   ]
  },
  {
   "cell_type": "code",
   "execution_count": 40,
   "id": "6ab10b37",
   "metadata": {},
   "outputs": [],
   "source": [
    "def concat_string(seperator: str, *args) -> str:\n",
    "    \"\"\"\n",
    "    _summary_\n",
    "\n",
    "    Args:\n",
    "        seperator (str): _description_\n",
    "\n",
    "    Returns:\n",
    "        str: _description_\n",
    "    \"\"\"    \n",
    "    return seperator.join(args)"
   ]
  }
 ],
 "metadata": {
  "kernelspec": {
   "display_name": "work",
   "language": "python",
   "name": "python3"
  },
  "language_info": {
   "codemirror_mode": {
    "name": "ipython",
    "version": 3
   },
   "file_extension": ".py",
   "mimetype": "text/x-python",
   "name": "python",
   "nbconvert_exporter": "python",
   "pygments_lexer": "ipython3",
   "version": "3.9.21"
  }
 },
 "nbformat": 4,
 "nbformat_minor": 5
}
