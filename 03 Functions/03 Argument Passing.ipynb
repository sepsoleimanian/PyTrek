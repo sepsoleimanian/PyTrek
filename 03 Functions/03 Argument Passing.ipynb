{
 "cells": [
  {
   "cell_type": "code",
   "execution_count": null,
   "id": "e1ebc693",
   "metadata": {},
   "outputs": [],
   "source": [
    "def create_invitation(name, age, date):\n",
    "  return f\"{name} is {age} Y.O invited to party on {date}.\""
   ]
  },
  {
   "cell_type": "code",
   "execution_count": 3,
   "id": "fe7a7ce2",
   "metadata": {},
   "outputs": [
    {
     "data": {
      "text/plain": [
       "'Sepideh is 24 Y.O invited to party on Nov 24.'"
      ]
     },
     "execution_count": 3,
     "metadata": {},
     "output_type": "execute_result"
    }
   ],
   "source": [
    "create_invitation('Sepideh', 24, 'Nov 24')"
   ]
  },
  {
   "cell_type": "code",
   "execution_count": 13,
   "id": "75c38ecd",
   "metadata": {},
   "outputs": [
    {
     "data": {
      "text/plain": [
       "'March 28 is 24 Y.O invited to party on Sepideh.'"
      ]
     },
     "execution_count": 13,
     "metadata": {},
     "output_type": "execute_result"
    }
   ],
   "source": [
    "# positional args: order matters\n",
    "create_invitation('March 28', 24, 'Sepideh')"
   ]
  },
  {
   "cell_type": "code",
   "execution_count": 14,
   "id": "4f7413a8",
   "metadata": {},
   "outputs": [
    {
     "data": {
      "text/plain": [
       "'24 is 16 Sep Y.O invited to party on Sepideh.'"
      ]
     },
     "execution_count": 14,
     "metadata": {},
     "output_type": "execute_result"
    }
   ],
   "source": [
    "create_invitation(24, '16 Sep', 'Sepideh')"
   ]
  },
  {
   "cell_type": "code",
   "execution_count": 15,
   "id": "62de4252",
   "metadata": {},
   "outputs": [
    {
     "ename": "TypeError",
     "evalue": "create_invitation() missing 1 required positional argument: 'date'",
     "output_type": "error",
     "traceback": [
      "\u001b[0;31m---------------------------------------------------------------------------\u001b[0m",
      "\u001b[0;31mTypeError\u001b[0m                                 Traceback (most recent call last)",
      "Cell \u001b[0;32mIn[15], line 1\u001b[0m\n\u001b[0;32m----> 1\u001b[0m \u001b[43mcreate_invitation\u001b[49m\u001b[43m(\u001b[49m\u001b[38;5;241;43m24\u001b[39;49m\u001b[43m,\u001b[49m\u001b[43m \u001b[49m\u001b[38;5;124;43m'\u001b[39;49m\u001b[38;5;124;43m16 Sep\u001b[39;49m\u001b[38;5;124;43m'\u001b[39;49m\u001b[43m)\u001b[49m\n",
      "\u001b[0;31mTypeError\u001b[0m: create_invitation() missing 1 required positional argument: 'date'"
     ]
    }
   ],
   "source": [
    "create_invitation(24, '16 Sep')"
   ]
  },
  {
   "cell_type": "code",
   "execution_count": 16,
   "id": "909d924d",
   "metadata": {},
   "outputs": [
    {
     "ename": "TypeError",
     "evalue": "create_invitation() takes 3 positional arguments but 4 were given",
     "output_type": "error",
     "traceback": [
      "\u001b[0;31m---------------------------------------------------------------------------\u001b[0m",
      "\u001b[0;31mTypeError\u001b[0m                                 Traceback (most recent call last)",
      "Cell \u001b[0;32mIn[16], line 1\u001b[0m\n\u001b[0;32m----> 1\u001b[0m \u001b[43mcreate_invitation\u001b[49m\u001b[43m(\u001b[49m\u001b[38;5;241;43m24\u001b[39;49m\u001b[43m,\u001b[49m\u001b[43m \u001b[49m\u001b[38;5;124;43m'\u001b[39;49m\u001b[38;5;124;43m16 Sep\u001b[39;49m\u001b[38;5;124;43m'\u001b[39;49m\u001b[43m,\u001b[49m\u001b[43m \u001b[49m\u001b[38;5;124;43m'\u001b[39;49m\u001b[38;5;124;43mSepideh\u001b[39;49m\u001b[38;5;124;43m'\u001b[39;49m\u001b[43m,\u001b[49m\u001b[43m \u001b[49m\u001b[38;5;241;43m28\u001b[39;49m\u001b[43m)\u001b[49m\n",
      "\u001b[0;31mTypeError\u001b[0m: create_invitation() takes 3 positional arguments but 4 were given"
     ]
    }
   ],
   "source": [
    "create_invitation(24, '16 Sep', 'Sepideh', 28)"
   ]
  },
  {
   "cell_type": "code",
   "execution_count": 17,
   "id": "6ab4ea35",
   "metadata": {},
   "outputs": [
    {
     "data": {
      "text/plain": [
       "'sepideh is 24 Y.O invited to party on 16 Nov.'"
      ]
     },
     "execution_count": 17,
     "metadata": {},
     "output_type": "execute_result"
    }
   ],
   "source": [
    "# Keyword args: order does not matter => Better option\n",
    "create_invitation(name = 'sepideh', age = 24, date = '16 Nov')"
   ]
  },
  {
   "cell_type": "code",
   "execution_count": 19,
   "id": "51f23b08",
   "metadata": {},
   "outputs": [
    {
     "data": {
      "text/plain": [
       "'Sepideh is 25 Y.O invited to party on 12 march.'"
      ]
     },
     "execution_count": 19,
     "metadata": {},
     "output_type": "execute_result"
    }
   ],
   "source": [
    "# Keyword args come after positional args\n",
    "create_invitation('Sepideh', age = 25, date = '12 march')"
   ]
  },
  {
   "cell_type": "code",
   "execution_count": 26,
   "id": "4aff9470",
   "metadata": {},
   "outputs": [],
   "source": [
    "# Default parameter\n",
    "# Default parameters come after normal aprameters\n",
    "\n",
    "def create_profile(name, age, country, language = 'English'):\n",
    "  profile ={\n",
    "    'name': name,\n",
    "    'age': age,\n",
    "    'county': country,\n",
    "    'language': language\n",
    "  }\n",
    "  print(profile)"
   ]
  },
  {
   "cell_type": "code",
   "execution_count": 27,
   "id": "faefb36f",
   "metadata": {},
   "outputs": [
    {
     "name": "stdout",
     "output_type": "stream",
     "text": [
      "{'name': 'sepideh', 'age': 24, 'county': 'Iran', 'language': 'English'}\n"
     ]
    }
   ],
   "source": [
    "create_profile('sepideh', 24, \"Iran\")"
   ]
  },
  {
   "cell_type": "code",
   "execution_count": 28,
   "id": "c8a0f9b4",
   "metadata": {},
   "outputs": [
    {
     "name": "stdout",
     "output_type": "stream",
     "text": [
      "{'name': 'sepideh', 'age': 24, 'county': 'Iran', 'language': 'Farsi'}\n"
     ]
    }
   ],
   "source": [
    "create_profile('sepideh', 24, \"Iran\", 'Farsi')"
   ]
  }
 ],
 "metadata": {
  "kernelspec": {
   "display_name": "work",
   "language": "python",
   "name": "python3"
  },
  "language_info": {
   "codemirror_mode": {
    "name": "ipython",
    "version": 3
   },
   "file_extension": ".py",
   "mimetype": "text/x-python",
   "name": "python",
   "nbconvert_exporter": "python",
   "pygments_lexer": "ipython3",
   "version": "3.9.21"
  }
 },
 "nbformat": 4,
 "nbformat_minor": 5
}
