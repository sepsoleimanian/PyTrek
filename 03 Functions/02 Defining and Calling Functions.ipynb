{
 "cells": [
  {
   "cell_type": "code",
   "execution_count": 1,
   "id": "9776bfe9",
   "metadata": {},
   "outputs": [],
   "source": [
    "def square(number):\n",
    "  print(number * number)"
   ]
  },
  {
   "cell_type": "code",
   "execution_count": 2,
   "id": "08cd9149",
   "metadata": {},
   "outputs": [
    {
     "name": "stdout",
     "output_type": "stream",
     "text": [
      "36\n"
     ]
    }
   ],
   "source": [
    "square(6)"
   ]
  },
  {
   "cell_type": "code",
   "execution_count": 4,
   "id": "267d5d2b",
   "metadata": {},
   "outputs": [],
   "source": [
    "def func_name(parameteres):\n",
    "  \"\"\" \n",
    "  Docstring is optional but recommended\n",
    "  \"\"\"\n",
    "  # Func body"
   ]
  },
  {
   "cell_type": "code",
   "execution_count": 5,
   "id": "aacfa5b7",
   "metadata": {},
   "outputs": [],
   "source": [
    "# func names are snake_case"
   ]
  },
  {
   "cell_type": "code",
   "execution_count": 6,
   "id": "679b4309",
   "metadata": {},
   "outputs": [],
   "source": [
    "# Inputes of funcs have different names when defining and calling a func. \n",
    "# when defining, it is paramater \n",
    "# When calling, it is argument"
   ]
  },
  {
   "cell_type": "code",
   "execution_count": 7,
   "id": "da09d787",
   "metadata": {},
   "outputs": [],
   "source": [
    "# return is not print()\n",
    "# Print just show but the ouput of the func, come in Return"
   ]
  },
  {
   "cell_type": "code",
   "execution_count": 8,
   "id": "bfca4b66",
   "metadata": {},
   "outputs": [],
   "source": [
    "def add(a, b):\n",
    "  return a + b"
   ]
  },
  {
   "cell_type": "code",
   "execution_count": 9,
   "id": "4ac844c2",
   "metadata": {},
   "outputs": [],
   "source": [
    "ouput = add(1, 2)"
   ]
  },
  {
   "cell_type": "code",
   "execution_count": 10,
   "id": "24eb5601",
   "metadata": {},
   "outputs": [
    {
     "data": {
      "text/plain": [
       "3"
      ]
     },
     "execution_count": 10,
     "metadata": {},
     "output_type": "execute_result"
    }
   ],
   "source": [
    "ouput"
   ]
  }
 ],
 "metadata": {
  "kernelspec": {
   "display_name": "work",
   "language": "python",
   "name": "python3"
  },
  "language_info": {
   "codemirror_mode": {
    "name": "ipython",
    "version": 3
   },
   "file_extension": ".py",
   "mimetype": "text/x-python",
   "name": "python",
   "nbconvert_exporter": "python",
   "pygments_lexer": "ipython3",
   "version": "3.9.21"
  }
 },
 "nbformat": 4,
 "nbformat_minor": 5
}
