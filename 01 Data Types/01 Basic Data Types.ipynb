{
 "cells": [
  {
   "cell_type": "code",
   "execution_count": 1,
   "id": "441c9529",
   "metadata": {},
   "outputs": [
    {
     "data": {
      "text/plain": [
       "5"
      ]
     },
     "execution_count": 1,
     "metadata": {},
     "output_type": "execute_result"
    }
   ],
   "source": [
    "5"
   ]
  },
  {
   "cell_type": "code",
   "execution_count": 2,
   "id": "c86141eb",
   "metadata": {},
   "outputs": [
    {
     "data": {
      "text/plain": [
       "2"
      ]
     },
     "execution_count": 2,
     "metadata": {},
     "output_type": "execute_result"
    }
   ],
   "source": [
    "# Binary\n",
    "0b10"
   ]
  },
  {
   "cell_type": "code",
   "execution_count": 3,
   "id": "bcde0464",
   "metadata": {},
   "outputs": [
    {
     "data": {
      "text/plain": [
       "8"
      ]
     },
     "execution_count": 3,
     "metadata": {},
     "output_type": "execute_result"
    }
   ],
   "source": [
    "# Octal\n",
    "0o10"
   ]
  },
  {
   "cell_type": "code",
   "execution_count": 4,
   "id": "49702ec1",
   "metadata": {},
   "outputs": [
    {
     "data": {
      "text/plain": [
       "16"
      ]
     },
     "execution_count": 4,
     "metadata": {},
     "output_type": "execute_result"
    }
   ],
   "source": [
    "# Hex\n",
    "0x10"
   ]
  },
  {
   "cell_type": "code",
   "execution_count": 5,
   "id": "fcc570d2",
   "metadata": {},
   "outputs": [
    {
     "data": {
      "text/plain": [
       "int"
      ]
     },
     "execution_count": 5,
     "metadata": {},
     "output_type": "execute_result"
    }
   ],
   "source": [
    "type(0x10)"
   ]
  },
  {
   "cell_type": "code",
   "execution_count": 6,
   "id": "97df3674",
   "metadata": {},
   "outputs": [
    {
     "data": {
      "text/plain": [
       "int"
      ]
     },
     "execution_count": 6,
     "metadata": {},
     "output_type": "execute_result"
    }
   ],
   "source": [
    "type(5)"
   ]
  },
  {
   "cell_type": "code",
   "execution_count": 7,
   "id": "c91e0ac2",
   "metadata": {},
   "outputs": [
    {
     "data": {
      "text/plain": [
       "float"
      ]
     },
     "execution_count": 7,
     "metadata": {},
     "output_type": "execute_result"
    }
   ],
   "source": [
    "type(4.3)"
   ]
  },
  {
   "cell_type": "code",
   "execution_count": 10,
   "metadata": {},
   "outputs": [
    {
     "data": {
      "text/plain": [
       "3.456787333333365e+17"
      ]
     },
     "execution_count": 10,
     "metadata": {},
     "output_type": "execute_result"
    }
   ],
   "source": [
    "345678733333336543.098765456789"
   ]
  },
  {
   "cell_type": "code",
   "execution_count": 11,
   "metadata": {},
   "outputs": [
    {
     "data": {
      "text/plain": [
       "0.2"
      ]
     },
     "execution_count": 11,
     "metadata": {},
     "output_type": "execute_result"
    }
   ],
   "source": [
    ".2"
   ]
  },
  {
   "cell_type": "code",
   "execution_count": 13,
   "metadata": {},
   "outputs": [
    {
     "data": {
      "text/plain": [
       "int"
      ]
     },
     "execution_count": 13,
     "metadata": {},
     "output_type": "execute_result"
    }
   ],
   "source": [
    "type(5)"
   ]
  },
  {
   "cell_type": "code",
   "execution_count": 14,
   "metadata": {},
   "outputs": [
    {
     "data": {
      "text/plain": [
       "float"
      ]
     },
     "execution_count": 14,
     "metadata": {},
     "output_type": "execute_result"
    }
   ],
   "source": [
    "type(5.0)"
   ]
  },
  {
   "cell_type": "code",
   "execution_count": 15,
   "metadata": {},
   "outputs": [
    {
     "data": {
      "text/plain": [
       "0.04"
      ]
     },
     "execution_count": 15,
     "metadata": {},
     "output_type": "execute_result"
    }
   ],
   "source": [
    "4e-2"
   ]
  },
  {
   "cell_type": "code",
   "execution_count": 16,
   "metadata": {},
   "outputs": [
    {
     "data": {
      "text/plain": [
       "float"
      ]
     },
     "execution_count": 16,
     "metadata": {},
     "output_type": "execute_result"
    }
   ],
   "source": [
    "type(4e-2)"
   ]
  },
  {
   "cell_type": "code",
   "execution_count": 19,
   "metadata": {},
   "outputs": [
    {
     "data": {
      "text/plain": [
       "1.79e+308"
      ]
     },
     "execution_count": 19,
     "metadata": {},
     "output_type": "execute_result"
    }
   ],
   "source": [
    "1.79e308"
   ]
  },
  {
   "cell_type": "code",
   "execution_count": 20,
   "metadata": {},
   "outputs": [
    {
     "data": {
      "text/plain": [
       "inf"
      ]
     },
     "execution_count": 20,
     "metadata": {},
     "output_type": "execute_result"
    }
   ],
   "source": [
    "18e308"
   ]
  },
  {
   "cell_type": "code",
   "execution_count": 21,
   "id": "1ac4f819",
   "metadata": {},
   "outputs": [
    {
     "data": {
      "text/plain": [
       "5e-324"
      ]
     },
     "execution_count": 21,
     "metadata": {},
     "output_type": "execute_result"
    }
   ],
   "source": [
    "5e-324"
   ]
  },
  {
   "cell_type": "code",
   "execution_count": 25,
   "metadata": {},
   "outputs": [
    {
     "data": {
      "text/plain": [
       "0.0"
      ]
     },
     "execution_count": 25,
     "metadata": {},
     "output_type": "execute_result"
    }
   ],
   "source": [
    "5e-325"
   ]
  },
  {
   "cell_type": "code",
   "execution_count": 28,
   "id": "142bfc1c",
   "metadata": {},
   "outputs": [
    {
     "data": {
      "text/plain": [
       "3.3000000000000003"
      ]
     },
     "execution_count": 28,
     "metadata": {},
     "output_type": "execute_result"
    }
   ],
   "source": [
    "# when converting nums to binary, this happens.\n",
    "1.1 + 2.2"
   ]
  },
  {
   "cell_type": "code",
   "execution_count": 29,
   "id": "166828db",
   "metadata": {},
   "outputs": [
    {
     "data": {
      "text/plain": [
       "False"
      ]
     },
     "execution_count": 29,
     "metadata": {},
     "output_type": "execute_result"
    }
   ],
   "source": [
    "1.1 + 2.2 == 3.3"
   ]
  },
  {
   "cell_type": "code",
   "execution_count": 30,
   "id": "ef35b9b7",
   "metadata": {},
   "outputs": [
    {
     "data": {
      "text/plain": [
       "(4+5j)"
      ]
     },
     "execution_count": 30,
     "metadata": {},
     "output_type": "execute_result"
    }
   ],
   "source": [
    "4 + 5j"
   ]
  },
  {
   "cell_type": "code",
   "execution_count": 31,
   "id": "3c01b0ea",
   "metadata": {},
   "outputs": [
    {
     "data": {
      "text/plain": [
       "complex"
      ]
     },
     "execution_count": 31,
     "metadata": {},
     "output_type": "execute_result"
    }
   ],
   "source": [
    "type(4 + 5j)"
   ]
  },
  {
   "cell_type": "code",
   "execution_count": 32,
   "id": "8b24dc92",
   "metadata": {},
   "outputs": [
    {
     "data": {
      "text/plain": [
       "'String'"
      ]
     },
     "execution_count": 32,
     "metadata": {},
     "output_type": "execute_result"
    }
   ],
   "source": [
    "\"String\""
   ]
  },
  {
   "cell_type": "code",
   "execution_count": 33,
   "id": "5b050220",
   "metadata": {},
   "outputs": [
    {
     "data": {
      "text/plain": [
       "'String'"
      ]
     },
     "execution_count": 33,
     "metadata": {},
     "output_type": "execute_result"
    }
   ],
   "source": [
    "'String'"
   ]
  },
  {
   "cell_type": "code",
   "execution_count": 34,
   "id": "3a2e37be",
   "metadata": {},
   "outputs": [
    {
     "data": {
      "text/plain": [
       "'String'"
      ]
     },
     "execution_count": 34,
     "metadata": {},
     "output_type": "execute_result"
    }
   ],
   "source": [
    "'''String'''"
   ]
  },
  {
   "cell_type": "code",
   "execution_count": 35,
   "id": "2fd0fa42",
   "metadata": {},
   "outputs": [
    {
     "data": {
      "text/plain": [
       "str"
      ]
     },
     "execution_count": 35,
     "metadata": {},
     "output_type": "execute_result"
    }
   ],
   "source": [
    "type('hi')"
   ]
  },
  {
   "cell_type": "code",
   "execution_count": 36,
   "id": "bc107c34",
   "metadata": {},
   "outputs": [
    {
     "data": {
      "text/plain": [
       "''"
      ]
     },
     "execution_count": 36,
     "metadata": {},
     "output_type": "execute_result"
    }
   ],
   "source": [
    "\"\""
   ]
  },
  {
   "cell_type": "code",
   "execution_count": 37,
   "id": "b3ff5242",
   "metadata": {},
   "outputs": [
    {
     "data": {
      "text/plain": [
       "''"
      ]
     },
     "execution_count": 37,
     "metadata": {},
     "output_type": "execute_result"
    }
   ],
   "source": [
    "''"
   ]
  },
  {
   "cell_type": "code",
   "execution_count": 38,
   "id": "52e764ea",
   "metadata": {},
   "outputs": [
    {
     "data": {
      "text/plain": [
       "\"This string contains a single quote (')\""
      ]
     },
     "execution_count": 38,
     "metadata": {},
     "output_type": "execute_result"
    }
   ],
   "source": [
    "\"This string contains a single quote (')\""
   ]
  },
  {
   "cell_type": "code",
   "execution_count": 39,
   "id": "2730992f",
   "metadata": {},
   "outputs": [
    {
     "data": {
      "text/plain": [
       "'This string contains a double quote (\")'"
      ]
     },
     "execution_count": 39,
     "metadata": {},
     "output_type": "execute_result"
    }
   ],
   "source": [
    "'This string contains a double quote (\")'"
   ]
  },
  {
   "cell_type": "code",
   "execution_count": 40,
   "id": "9f7bd625",
   "metadata": {},
   "outputs": [
    {
     "data": {
      "text/plain": [
       "\"This string has ' in it \""
      ]
     },
     "execution_count": 40,
     "metadata": {},
     "output_type": "execute_result"
    }
   ],
   "source": [
    "'This string has \\' in it '"
   ]
  },
  {
   "cell_type": "code",
   "execution_count": 41,
   "id": "44d4c7eb",
   "metadata": {},
   "outputs": [
    {
     "data": {
      "text/plain": [
       "'This string has \" in it'"
      ]
     },
     "execution_count": 41,
     "metadata": {},
     "output_type": "execute_result"
    }
   ],
   "source": [
    "\"This string has \\\" in it\""
   ]
  },
  {
   "cell_type": "code",
   "execution_count": 44,
   "id": "59e88fb0",
   "metadata": {},
   "outputs": [
    {
     "data": {
      "text/plain": [
       "'foo\\x08ar'"
      ]
     },
     "execution_count": 44,
     "metadata": {},
     "output_type": "execute_result"
    }
   ],
   "source": [
    "'foo\\bar'"
   ]
  },
  {
   "cell_type": "code",
   "execution_count": 45,
   "id": "ccac1cdf",
   "metadata": {},
   "outputs": [
    {
     "data": {
      "text/plain": [
       "'foo\\\\bar'"
      ]
     },
     "execution_count": 45,
     "metadata": {},
     "output_type": "execute_result"
    }
   ],
   "source": [
    "'foo\\\\bar'"
   ]
  },
  {
   "cell_type": "code",
   "execution_count": 46,
   "id": "2362390a",
   "metadata": {},
   "outputs": [
    {
     "name": "stdout",
     "output_type": "stream",
     "text": [
      "foo\\bar\n"
     ]
    }
   ],
   "source": [
    "print('foo\\\\bar')"
   ]
  },
  {
   "cell_type": "code",
   "execution_count": null,
   "id": "71266bc7",
   "metadata": {},
   "outputs": [
    {
     "name": "stdout",
     "output_type": "stream",
     "text": [
      "sepideh\\ Sepideh\n"
     ]
    }
   ],
   "source": [
    "print('sepideh \\\\ Sepideh')"
   ]
  },
  {
   "cell_type": "code",
   "execution_count": 49,
   "id": "0a9abef1",
   "metadata": {},
   "outputs": [
    {
     "name": "stdout",
     "output_type": "stream",
     "text": [
      "sepideh\n",
      "Sepideh\n"
     ]
    }
   ],
   "source": [
    "print('sepideh\\nSepideh')"
   ]
  },
  {
   "cell_type": "code",
   "execution_count": 52,
   "metadata": {},
   "outputs": [
    {
     "name": "stdout",
     "output_type": "stream",
     "text": [
      "sepideh\\nsoleimanian\n"
     ]
    }
   ],
   "source": [
    "# Disabling escape sequence\n",
    "print(r'sepideh\\nsoleimanian')"
   ]
  },
  {
   "cell_type": "code",
   "execution_count": 2,
   "metadata": {},
   "outputs": [
    {
     "data": {
      "text/plain": [
       "'\\nThis makes your\\nComments\\nLook like a doc\\nand\\nit is called multi line string\\n'"
      ]
     },
     "execution_count": 2,
     "metadata": {},
     "output_type": "execute_result"
    }
   ],
   "source": [
    "\"\"\"\n",
    "This makes your\n",
    "Comments\n",
    "Look like a doc\n",
    "and\n",
    "it is called multi line string\n",
    "\"\"\""
   ]
  },
  {
   "cell_type": "code",
   "execution_count": 3,
   "metadata": {},
   "outputs": [
    {
     "name": "stdout",
     "output_type": "stream",
     "text": [
      "\n",
      "This makes your\n",
      "Comments\n",
      "Look like a doc\n",
      "and\n",
      "it is called multi line string\n",
      "\n"
     ]
    }
   ],
   "source": [
    "print(\"\"\"\n",
    "This makes your\n",
    "Comments\n",
    "Look like a doc\n",
    "and\n",
    "it is called multi line string\n",
    "\"\"\")"
   ]
  },
  {
   "cell_type": "code",
   "execution_count": 4,
   "metadata": {},
   "outputs": [
    {
     "data": {
      "text/plain": [
       "bool"
      ]
     },
     "execution_count": 4,
     "metadata": {},
     "output_type": "execute_result"
    }
   ],
   "source": [
    "type(True)"
   ]
  },
  {
   "cell_type": "code",
   "execution_count": 5,
   "id": "84fabe06",
   "metadata": {},
   "outputs": [
    {
     "data": {
      "text/plain": [
       "bool"
      ]
     },
     "execution_count": 5,
     "metadata": {},
     "output_type": "execute_result"
    }
   ],
   "source": [
    "type(False)"
   ]
  },
  {
   "cell_type": "code",
   "execution_count": 6,
   "metadata": {},
   "outputs": [
    {
     "data": {
      "text/plain": [
       "False"
      ]
     },
     "execution_count": 6,
     "metadata": {},
     "output_type": "execute_result"
    }
   ],
   "source": [
    "3 == 2"
   ]
  },
  {
   "cell_type": "code",
   "execution_count": 7,
   "id": "0633060d",
   "metadata": {},
   "outputs": [
    {
     "data": {
      "text/plain": [
       "True"
      ]
     },
     "execution_count": 7,
     "metadata": {},
     "output_type": "execute_result"
    }
   ],
   "source": [
    "3 == 3.0"
   ]
  },
  {
   "cell_type": "code",
   "execution_count": 8,
   "id": "0158d1af",
   "metadata": {},
   "outputs": [
    {
     "data": {
      "text/plain": [
       "False"
      ]
     },
     "execution_count": 8,
     "metadata": {},
     "output_type": "execute_result"
    }
   ],
   "source": [
    "bool(0)"
   ]
  },
  {
   "cell_type": "code",
   "execution_count": 9,
   "metadata": {},
   "outputs": [
    {
     "data": {
      "text/plain": [
       "True"
      ]
     },
     "execution_count": 9,
     "metadata": {},
     "output_type": "execute_result"
    }
   ],
   "source": [
    "bool(10)"
   ]
  },
  {
   "cell_type": "code",
   "execution_count": 10,
   "metadata": {},
   "outputs": [
    {
     "data": {
      "text/plain": [
       "True"
      ]
     },
     "execution_count": 10,
     "metadata": {},
     "output_type": "execute_result"
    }
   ],
   "source": [
    "bool(-10)"
   ]
  },
  {
   "cell_type": "code",
   "execution_count": 11,
   "metadata": {},
   "outputs": [],
   "source": [
    "# in pyton, everything is a object.\n",
    "# variables are lables for objects.\n",
    "n = 400\n"
   ]
  },
  {
   "cell_type": "code",
   "execution_count": 15,
   "metadata": {},
   "outputs": [],
   "source": [
    "n = 900.8"
   ]
  },
  {
   "cell_type": "code",
   "execution_count": 16,
   "metadata": {},
   "outputs": [
    {
     "data": {
      "text/plain": [
       "900.8"
      ]
     },
     "execution_count": 16,
     "metadata": {},
     "output_type": "execute_result"
    }
   ],
   "source": [
    "# Dynamic typing\n",
    "n"
   ]
  },
  {
   "cell_type": "code",
   "execution_count": 17,
   "metadata": {},
   "outputs": [],
   "source": [
    "a = b = c = 769"
   ]
  },
  {
   "cell_type": "code",
   "execution_count": 18,
   "id": "d9a0d9c6",
   "metadata": {},
   "outputs": [
    {
     "data": {
      "text/plain": [
       "(769, 769, 769)"
      ]
     },
     "execution_count": 18,
     "metadata": {},
     "output_type": "execute_result"
    }
   ],
   "source": [
    "a, b, c"
   ]
  },
  {
   "cell_type": "code",
   "execution_count": 19,
   "id": "bff7d11e",
   "metadata": {},
   "outputs": [
    {
     "name": "stdout",
     "output_type": "stream",
     "text": [
      "769 769 769\n"
     ]
    }
   ],
   "source": [
    "print(a, b, c)"
   ]
  },
  {
   "cell_type": "code",
   "execution_count": 20,
   "id": "3fed0be6",
   "metadata": {},
   "outputs": [
    {
     "data": {
      "text/plain": [
       "int"
      ]
     },
     "execution_count": 20,
     "metadata": {},
     "output_type": "execute_result"
    }
   ],
   "source": [
    "type(a)"
   ]
  },
  {
   "cell_type": "code",
   "execution_count": 2,
   "id": "0ad7252b",
   "metadata": {},
   "outputs": [
    {
     "data": {
      "text/plain": [
       "'\\nvaribales are names snake_case and classes are names PascalCase\\n'"
      ]
     },
     "execution_count": 2,
     "metadata": {},
     "output_type": "execute_result"
    }
   ],
   "source": [
    "\"\"\"\n",
    "varibales are names snake_case and classes are names PascalCase\n",
    "\"\"\""
   ]
  },
  {
   "cell_type": "code",
   "execution_count": null,
   "id": "713ef962",
   "metadata": {},
   "outputs": [],
   "source": [
    "# Naming convention\n",
    "# if a vatiable vaue should not be changed at all, it should be named all capital.\n",
    "PI = 3.14"
   ]
  },
  {
   "cell_type": "code",
   "execution_count": 4,
   "id": "f6d4fbb8",
   "metadata": {},
   "outputs": [
    {
     "data": {
      "text/plain": [
       "float"
      ]
     },
     "execution_count": 4,
     "metadata": {},
     "output_type": "execute_result"
    }
   ],
   "source": [
    "# implicut type conversion(Auto by python)\n",
    "type(123 + 12.3)"
   ]
  },
  {
   "cell_type": "code",
   "execution_count": 6,
   "id": "b0a8fa72",
   "metadata": {},
   "outputs": [
    {
     "data": {
      "text/plain": [
       "int"
      ]
     },
     "execution_count": 6,
     "metadata": {},
     "output_type": "execute_result"
    }
   ],
   "source": [
    "# Explicit type conversion(Manual)\n",
    "type(int(12.3))"
   ]
  },
  {
   "cell_type": "code",
   "execution_count": 7,
   "id": "47a0ff55",
   "metadata": {},
   "outputs": [
    {
     "data": {
      "text/plain": [
       "1"
      ]
     },
     "execution_count": 7,
     "metadata": {},
     "output_type": "execute_result"
    }
   ],
   "source": [
    "int(1.7)"
   ]
  },
  {
   "cell_type": "code",
   "execution_count": 8,
   "id": "167e7a4c",
   "metadata": {},
   "outputs": [
    {
     "data": {
      "text/plain": [
       "1"
      ]
     },
     "execution_count": 8,
     "metadata": {},
     "output_type": "execute_result"
    }
   ],
   "source": [
    "int(1.99999999)"
   ]
  },
  {
   "cell_type": "code",
   "execution_count": 9,
   "id": "cc7e1d2e",
   "metadata": {},
   "outputs": [
    {
     "data": {
      "text/plain": [
       "7"
      ]
     },
     "execution_count": 9,
     "metadata": {},
     "output_type": "execute_result"
    }
   ],
   "source": [
    "4 + 3"
   ]
  },
  {
   "cell_type": "code",
   "execution_count": 11,
   "id": "03753f8b",
   "metadata": {},
   "outputs": [
    {
     "data": {
      "text/plain": [
       "1"
      ]
     },
     "execution_count": 11,
     "metadata": {},
     "output_type": "execute_result"
    }
   ],
   "source": [
    "4 - 3 "
   ]
  },
  {
   "cell_type": "code",
   "execution_count": 12,
   "id": "a64726c1",
   "metadata": {},
   "outputs": [
    {
     "data": {
      "text/plain": [
       "1.3333333333333333"
      ]
     },
     "execution_count": 12,
     "metadata": {},
     "output_type": "execute_result"
    }
   ],
   "source": [
    "4 /3"
   ]
  },
  {
   "cell_type": "code",
   "execution_count": 13,
   "id": "b1544ced",
   "metadata": {},
   "outputs": [
    {
     "data": {
      "text/plain": [
       "1"
      ]
     },
     "execution_count": 13,
     "metadata": {},
     "output_type": "execute_result"
    }
   ],
   "source": [
    "4 // 3"
   ]
  },
  {
   "cell_type": "code",
   "execution_count": 14,
   "id": "ead5dc71",
   "metadata": {},
   "outputs": [
    {
     "data": {
      "text/plain": [
       "12"
      ]
     },
     "execution_count": 14,
     "metadata": {},
     "output_type": "execute_result"
    }
   ],
   "source": [
    "4 * 3"
   ]
  },
  {
   "cell_type": "code",
   "execution_count": 15,
   "id": "b1cdadf9",
   "metadata": {},
   "outputs": [
    {
     "data": {
      "text/plain": [
       "1"
      ]
     },
     "execution_count": 15,
     "metadata": {},
     "output_type": "execute_result"
    }
   ],
   "source": [
    "-3 + 4"
   ]
  },
  {
   "cell_type": "code",
   "execution_count": 16,
   "id": "60c08636",
   "metadata": {},
   "outputs": [
    {
     "data": {
      "text/plain": [
       "False"
      ]
     },
     "execution_count": 16,
     "metadata": {},
     "output_type": "execute_result"
    }
   ],
   "source": [
    "4 == 3"
   ]
  },
  {
   "cell_type": "code",
   "execution_count": 17,
   "id": "9bdd5afe",
   "metadata": {},
   "outputs": [
    {
     "data": {
      "text/plain": [
       "True"
      ]
     },
     "execution_count": 17,
     "metadata": {},
     "output_type": "execute_result"
    }
   ],
   "source": [
    "4 == 4.0"
   ]
  },
  {
   "cell_type": "code",
   "execution_count": 27,
   "id": "b94f1e23",
   "metadata": {},
   "outputs": [
    {
     "data": {
      "text/plain": [
       "False"
      ]
     },
     "execution_count": 27,
     "metadata": {},
     "output_type": "execute_result"
    }
   ],
   "source": [
    "4 == 4.0000000001"
   ]
  },
  {
   "cell_type": "code",
   "execution_count": 28,
   "id": "3f232c4a",
   "metadata": {},
   "outputs": [
    {
     "data": {
      "text/plain": [
       "True"
      ]
     },
     "execution_count": 28,
     "metadata": {},
     "output_type": "execute_result"
    }
   ],
   "source": [
    "4 > 3"
   ]
  },
  {
   "cell_type": "code",
   "execution_count": 29,
   "id": "844baed4",
   "metadata": {},
   "outputs": [
    {
     "data": {
      "text/plain": [
       "True"
      ]
     },
     "execution_count": 29,
     "metadata": {},
     "output_type": "execute_result"
    }
   ],
   "source": [
    "4 >= 3"
   ]
  },
  {
   "cell_type": "code",
   "execution_count": 30,
   "id": "72b8f44f",
   "metadata": {},
   "outputs": [
    {
     "data": {
      "text/plain": [
       "False"
      ]
     },
     "execution_count": 30,
     "metadata": {},
     "output_type": "execute_result"
    }
   ],
   "source": [
    "4 < 3"
   ]
  },
  {
   "cell_type": "code",
   "execution_count": 31,
   "id": "53e0a44b",
   "metadata": {},
   "outputs": [
    {
     "data": {
      "text/plain": [
       "False"
      ]
     },
     "execution_count": 31,
     "metadata": {},
     "output_type": "execute_result"
    }
   ],
   "source": [
    "4 <= 3"
   ]
  },
  {
   "cell_type": "code",
   "execution_count": 33,
   "id": "caab8a5e",
   "metadata": {},
   "outputs": [
    {
     "data": {
      "text/plain": [
       "True"
      ]
     },
     "execution_count": 33,
     "metadata": {},
     "output_type": "execute_result"
    }
   ],
   "source": [
    "(4 > 3) and (5 > 3)"
   ]
  },
  {
   "cell_type": "code",
   "execution_count": 35,
   "id": "4e34da9d",
   "metadata": {},
   "outputs": [
    {
     "data": {
      "text/plain": [
       "False"
      ]
     },
     "execution_count": 35,
     "metadata": {},
     "output_type": "execute_result"
    }
   ],
   "source": [
    "(4 < 3) and (5 > 3)"
   ]
  },
  {
   "cell_type": "code",
   "execution_count": 36,
   "id": "ee3f0cec",
   "metadata": {},
   "outputs": [
    {
     "data": {
      "text/plain": [
       "True"
      ]
     },
     "execution_count": 36,
     "metadata": {},
     "output_type": "execute_result"
    }
   ],
   "source": [
    "(4 < 3) or (5 > 3)"
   ]
  },
  {
   "cell_type": "code",
   "execution_count": 37,
   "id": "18d925fc",
   "metadata": {},
   "outputs": [
    {
     "data": {
      "text/plain": [
       "False"
      ]
     },
     "execution_count": 37,
     "metadata": {},
     "output_type": "execute_result"
    }
   ],
   "source": [
    "not True"
   ]
  },
  {
   "cell_type": "code",
   "execution_count": 39,
   "id": "5ead7369",
   "metadata": {},
   "outputs": [
    {
     "data": {
      "text/plain": [
       "True"
      ]
     },
     "execution_count": 39,
     "metadata": {},
     "output_type": "execute_result"
    }
   ],
   "source": [
    "not False"
   ]
  },
  {
   "cell_type": "code",
   "execution_count": 43,
   "id": "cd5207c6",
   "metadata": {},
   "outputs": [
    {
     "data": {
      "text/plain": [
       "3"
      ]
     },
     "execution_count": 43,
     "metadata": {},
     "output_type": "execute_result"
    }
   ],
   "source": [
    "a = 0\n",
    "a += 3\n",
    "3"
   ]
  },
  {
   "cell_type": "code",
   "execution_count": 44,
   "id": "0881546c",
   "metadata": {},
   "outputs": [
    {
     "data": {
      "text/plain": [
       "3"
      ]
     },
     "execution_count": 44,
     "metadata": {},
     "output_type": "execute_result"
    }
   ],
   "source": [
    "b = 5\n",
    "b -= 2\n",
    "b"
   ]
  },
  {
   "cell_type": "code",
   "execution_count": 45,
   "id": "402910d2",
   "metadata": {},
   "outputs": [
    {
     "data": {
      "text/plain": [
       "21"
      ]
     },
     "execution_count": 45,
     "metadata": {},
     "output_type": "execute_result"
    }
   ],
   "source": [
    "c = 7\n",
    "c *= 3\n",
    "c"
   ]
  },
  {
   "cell_type": "code",
   "execution_count": 46,
   "id": "b61a0b2a",
   "metadata": {},
   "outputs": [
    {
     "data": {
      "text/plain": [
       "5.0"
      ]
     },
     "execution_count": 46,
     "metadata": {},
     "output_type": "execute_result"
    }
   ],
   "source": [
    "d = 20\n",
    "d /= 4\n",
    "d"
   ]
  },
  {
   "cell_type": "code",
   "execution_count": 47,
   "id": "7b13254a",
   "metadata": {},
   "outputs": [
    {
     "data": {
      "text/plain": [
       "True"
      ]
     },
     "execution_count": 47,
     "metadata": {},
     "output_type": "execute_result"
    }
   ],
   "source": [
    "'a' in 'abc'"
   ]
  },
  {
   "cell_type": "code",
   "execution_count": 48,
   "id": "4d440a68",
   "metadata": {},
   "outputs": [
    {
     "data": {
      "text/plain": [
       "False"
      ]
     },
     "execution_count": 48,
     "metadata": {},
     "output_type": "execute_result"
    }
   ],
   "source": [
    "'B' in 'abc'"
   ]
  },
  {
   "cell_type": "code",
   "execution_count": 49,
   "id": "35e6daac",
   "metadata": {},
   "outputs": [
    {
     "data": {
      "text/plain": [
       "True"
      ]
     },
     "execution_count": 49,
     "metadata": {},
     "output_type": "execute_result"
    }
   ],
   "source": [
    "'B' not in 'abc'"
   ]
  },
  {
   "cell_type": "code",
   "execution_count": 52,
   "id": "23ac185e",
   "metadata": {},
   "outputs": [
    {
     "data": {
      "text/plain": [
       "1"
      ]
     },
     "execution_count": 52,
     "metadata": {},
     "output_type": "execute_result"
    }
   ],
   "source": [
    "# bitwise operators\n",
    "# convert nums to binary and then compare bits\n",
    "5 & 3"
   ]
  },
  {
   "cell_type": "code",
   "execution_count": 53,
   "id": "a59afe2b",
   "metadata": {},
   "outputs": [
    {
     "data": {
      "text/plain": [
       "0"
      ]
     },
     "execution_count": 53,
     "metadata": {},
     "output_type": "execute_result"
    }
   ],
   "source": [
    "5 & 0"
   ]
  },
  {
   "cell_type": "code",
   "execution_count": 54,
   "id": "23b06e8e",
   "metadata": {},
   "outputs": [
    {
     "data": {
      "text/plain": [
       "24"
      ]
     },
     "execution_count": 54,
     "metadata": {},
     "output_type": "execute_result"
    }
   ],
   "source": [
    "(5 + 3) * 3"
   ]
  },
  {
   "cell_type": "code",
   "execution_count": 55,
   "id": "e7983c7f",
   "metadata": {},
   "outputs": [
    {
     "data": {
      "text/plain": [
       "14"
      ]
     },
     "execution_count": 55,
     "metadata": {},
     "output_type": "execute_result"
    }
   ],
   "source": [
    "5 + 3 * 3"
   ]
  }
 ],
 "metadata": {
  "kernelspec": {
   "display_name": "work",
   "language": "python",
   "name": "python3"
  },
  "language_info": {
   "codemirror_mode": {
    "name": "ipython",
    "version": 3
   },
   "file_extension": ".py",
   "mimetype": "text/x-python",
   "name": "python",
   "nbconvert_exporter": "python",
   "pygments_lexer": "ipython3",
   "version": "3.9.21"
  }
 },
 "nbformat": 4,
 "nbformat_minor": 5
}
