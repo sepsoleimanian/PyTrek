{
 "cells": [
  {
   "cell_type": "code",
   "execution_count": 2,
   "id": "744f1ef6",
   "metadata": {},
   "outputs": [],
   "source": [
    "# frozenset is immutabel set\n",
    "# relation between frozenset to set is like tuple to list"
   ]
  },
  {
   "cell_type": "code",
   "execution_count": 3,
   "id": "b9234b4b",
   "metadata": {},
   "outputs": [],
   "source": [
    "# frozensets are immutable, therefore they are hashable\n",
    "# dict keys should be hashable\n",
    "# so, frozensets can be usesd as dict keys"
   ]
  },
  {
   "cell_type": "code",
   "execution_count": 4,
   "id": "3267bd14",
   "metadata": {},
   "outputs": [],
   "source": [
    "# set elements should be hashable. so, list and dicts cannot be used in sets"
   ]
  },
  {
   "cell_type": "code",
   "execution_count": 5,
   "id": "33a3f383",
   "metadata": {},
   "outputs": [
    {
     "data": {
      "text/plain": [
       "frozenset({1, 2, 3})"
      ]
     },
     "execution_count": 5,
     "metadata": {},
     "output_type": "execute_result"
    }
   ],
   "source": [
    "# frozensets do not have speific syntax. they can be made by calling frozenset() over a iterable\n",
    "frozenset([1, 2, 3])"
   ]
  },
  {
   "cell_type": "code",
   "execution_count": 6,
   "id": "d6cf06fc",
   "metadata": {},
   "outputs": [],
   "source": [
    "fs = frozenset((1, 2, 4, 4))"
   ]
  },
  {
   "cell_type": "code",
   "execution_count": 7,
   "id": "9003c0bf",
   "metadata": {},
   "outputs": [
    {
     "data": {
      "text/plain": [
       "frozenset({'H', 'e', 'l', 'o'})"
      ]
     },
     "execution_count": 7,
     "metadata": {},
     "output_type": "execute_result"
    }
   ],
   "source": [
    "frozenset('Hello')"
   ]
  },
  {
   "cell_type": "code",
   "execution_count": 8,
   "id": "924f49c3",
   "metadata": {},
   "outputs": [
    {
     "ename": "AttributeError",
     "evalue": "'frozenset' object has no attribute 'add'",
     "output_type": "error",
     "traceback": [
      "\u001b[0;31m---------------------------------------------------------------------------\u001b[0m",
      "\u001b[0;31mAttributeError\u001b[0m                            Traceback (most recent call last)",
      "Cell \u001b[0;32mIn[8], line 1\u001b[0m\n\u001b[0;32m----> 1\u001b[0m \u001b[43mfs\u001b[49m\u001b[38;5;241;43m.\u001b[39;49m\u001b[43madd\u001b[49m(\u001b[38;5;241m4\u001b[39m)\n",
      "\u001b[0;31mAttributeError\u001b[0m: 'frozenset' object has no attribute 'add'"
     ]
    }
   ],
   "source": [
    "fs.add(4)"
   ]
  },
  {
   "cell_type": "code",
   "execution_count": 9,
   "id": "3abd57fc",
   "metadata": {},
   "outputs": [
    {
     "data": {
      "text/plain": [
       "True"
      ]
     },
     "execution_count": 9,
     "metadata": {},
     "output_type": "execute_result"
    }
   ],
   "source": [
    "1 in fs"
   ]
  },
  {
   "cell_type": "code",
   "execution_count": 10,
   "id": "a7fd29f1",
   "metadata": {},
   "outputs": [
    {
     "data": {
      "text/plain": [
       "False"
      ]
     },
     "execution_count": 10,
     "metadata": {},
     "output_type": "execute_result"
    }
   ],
   "source": [
    "876 in fs"
   ]
  },
  {
   "cell_type": "code",
   "execution_count": 11,
   "id": "9dda9ac2",
   "metadata": {},
   "outputs": [],
   "source": [
    "#if you want to index or slice a frozenset, you should convert it o tuple or list"
   ]
  },
  {
   "cell_type": "code",
   "execution_count": 12,
   "id": "8f4b9c3f",
   "metadata": {},
   "outputs": [],
   "source": [
    "fs1 = frozenset([1, 2, 3])\n",
    "fs2 = frozenset([2, 3, 4])\n",
    "fs3 = frozenset([3, 4, 5])"
   ]
  },
  {
   "cell_type": "code",
   "execution_count": 13,
   "id": "2644b4b5",
   "metadata": {},
   "outputs": [
    {
     "data": {
      "text/plain": [
       "frozenset({2, 3})"
      ]
     },
     "execution_count": 13,
     "metadata": {},
     "output_type": "execute_result"
    }
   ],
   "source": [
    "fs1 & fs2"
   ]
  },
  {
   "cell_type": "code",
   "execution_count": 14,
   "id": "60719757",
   "metadata": {},
   "outputs": [
    {
     "data": {
      "text/plain": [
       "frozenset({1, 2, 3, 4, 5})"
      ]
     },
     "execution_count": 14,
     "metadata": {},
     "output_type": "execute_result"
    }
   ],
   "source": [
    "fs1 | fs2 | fs3"
   ]
  },
  {
   "cell_type": "code",
   "execution_count": 15,
   "id": "364d24ae",
   "metadata": {},
   "outputs": [
    {
     "data": {
      "text/plain": [
       "frozenset({1})"
      ]
     },
     "execution_count": 15,
     "metadata": {},
     "output_type": "execute_result"
    }
   ],
   "source": [
    "fs1 - fs2"
   ]
  },
  {
   "cell_type": "code",
   "execution_count": 16,
   "id": "e4783785",
   "metadata": {},
   "outputs": [
    {
     "data": {
      "text/plain": [
       "frozenset({1, 4})"
      ]
     },
     "execution_count": 16,
     "metadata": {},
     "output_type": "execute_result"
    }
   ],
   "source": [
    "fs1 ^ fs2\n"
   ]
  },
  {
   "cell_type": "code",
   "execution_count": 17,
   "id": "3863d134",
   "metadata": {},
   "outputs": [],
   "source": [
    "ALLOWED = frozenset(['.jpg', '.png'])"
   ]
  },
  {
   "cell_type": "code",
   "execution_count": 19,
   "id": "b489dc04",
   "metadata": {},
   "outputs": [
    {
     "data": {
      "text/plain": [
       "frozenset({1, 2, 3})"
      ]
     },
     "execution_count": 19,
     "metadata": {},
     "output_type": "execute_result"
    }
   ],
   "source": [
    "fs1"
   ]
  },
  {
   "cell_type": "code",
   "execution_count": 21,
   "id": "7f14e757",
   "metadata": {},
   "outputs": [
    {
     "data": {
      "text/plain": [
       "frozenset({1, 2, 3, 4})"
      ]
     },
     "execution_count": 21,
     "metadata": {},
     "output_type": "execute_result"
    }
   ],
   "source": [
    "# this opy all fr1 into a new obj\n",
    "fs1.union([4])"
   ]
  }
 ],
 "metadata": {
  "kernelspec": {
   "display_name": "work",
   "language": "python",
   "name": "python3"
  },
  "language_info": {
   "codemirror_mode": {
    "name": "ipython",
    "version": 3
   },
   "file_extension": ".py",
   "mimetype": "text/x-python",
   "name": "python",
   "nbconvert_exporter": "python",
   "pygments_lexer": "ipython3",
   "version": "3.9.21"
  }
 },
 "nbformat": 4,
 "nbformat_minor": 5
}
