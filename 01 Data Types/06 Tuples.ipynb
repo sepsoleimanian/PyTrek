{
 "cells": [
  {
   "cell_type": "code",
   "execution_count": 1,
   "id": "01957236",
   "metadata": {},
   "outputs": [],
   "source": [
    "# tupples are immutable lists"
   ]
  },
  {
   "cell_type": "code",
   "execution_count": 2,
   "id": "7c81eaa3",
   "metadata": {},
   "outputs": [],
   "source": [
    "my_tuple = (1, 2, 3)"
   ]
  },
  {
   "cell_type": "code",
   "execution_count": 4,
   "id": "96e20eff",
   "metadata": {},
   "outputs": [
    {
     "ename": "TypeError",
     "evalue": "'tuple' object does not support item assignment",
     "output_type": "error",
     "traceback": [
      "\u001b[0;31m---------------------------------------------------------------------------\u001b[0m",
      "\u001b[0;31mTypeError\u001b[0m                                 Traceback (most recent call last)",
      "Cell \u001b[0;32mIn[4], line 1\u001b[0m\n\u001b[0;32m----> 1\u001b[0m my_tuple[\u001b[38;5;241m0\u001b[39m] \u001b[38;5;241m=\u001b[39m \u001b[38;5;241m4\u001b[39m\n",
      "\u001b[0;31mTypeError\u001b[0m: 'tuple' object does not support item assignment"
     ]
    }
   ],
   "source": [
    "my_tuple[0] = 4"
   ]
  },
  {
   "cell_type": "code",
   "execution_count": 5,
   "id": "054f378c",
   "metadata": {},
   "outputs": [],
   "source": [
    "empty_tuple = ()"
   ]
  },
  {
   "cell_type": "code",
   "execution_count": 6,
   "id": "28626b74",
   "metadata": {},
   "outputs": [
    {
     "data": {
      "text/plain": [
       "str"
      ]
     },
     "execution_count": 6,
     "metadata": {},
     "output_type": "execute_result"
    }
   ],
   "source": [
    "# tuple with length 1\n",
    "t = ('A')\n",
    "type(t)"
   ]
  },
  {
   "cell_type": "code",
   "execution_count": 7,
   "id": "70b9622f",
   "metadata": {},
   "outputs": [
    {
     "data": {
      "text/plain": [
       "tuple"
      ]
     },
     "execution_count": 7,
     "metadata": {},
     "output_type": "execute_result"
    }
   ],
   "source": [
    "tuple_with_len_1 = ('A',)\n",
    "type(tuple_with_len_1)"
   ]
  },
  {
   "cell_type": "code",
   "execution_count": 8,
   "id": "b7ff719b",
   "metadata": {},
   "outputs": [],
   "source": [
    "t = (1, (2, 3), [1, 2], 'str')"
   ]
  },
  {
   "cell_type": "code",
   "execution_count": 10,
   "id": "dc16dd55",
   "metadata": {},
   "outputs": [
    {
     "data": {
      "text/plain": [
       "(1, (2, 3), [99, 2], 'str')"
      ]
     },
     "execution_count": 10,
     "metadata": {},
     "output_type": "execute_result"
    }
   ],
   "source": [
    "t[2][0] = 99\n",
    "t"
   ]
  },
  {
   "cell_type": "code",
   "execution_count": 11,
   "id": "5b77e427",
   "metadata": {},
   "outputs": [
    {
     "data": {
      "text/plain": [
       "(1, (2, 3), [99, 2], 'str')"
      ]
     },
     "execution_count": 11,
     "metadata": {},
     "output_type": "execute_result"
    }
   ],
   "source": [
    "t"
   ]
  },
  {
   "cell_type": "code",
   "execution_count": 12,
   "id": "b8c8ed04",
   "metadata": {},
   "outputs": [
    {
     "data": {
      "text/plain": [
       "('str', [99, 2], (2, 3), 1)"
      ]
     },
     "execution_count": 12,
     "metadata": {},
     "output_type": "execute_result"
    }
   ],
   "source": [
    "t[::-1]"
   ]
  },
  {
   "cell_type": "code",
   "execution_count": 22,
   "id": "a45dd1aa",
   "metadata": {},
   "outputs": [],
   "source": [
    "t = ('sepideh', 'sara', 'sogand')"
   ]
  },
  {
   "cell_type": "code",
   "execution_count": 23,
   "id": "5cf0ce82",
   "metadata": {},
   "outputs": [],
   "source": [
    "# does not mutate tuple. it creates a new one\n",
    "new_tuple = t + ('elahe', 'niloofar')"
   ]
  },
  {
   "cell_type": "code",
   "execution_count": 24,
   "id": "a9436c44",
   "metadata": {},
   "outputs": [
    {
     "data": {
      "text/plain": [
       "('sepideh', 'sara', 'sogand', 'elahe', 'niloofar')"
      ]
     },
     "execution_count": 24,
     "metadata": {},
     "output_type": "execute_result"
    }
   ],
   "source": [
    "new_tuple"
   ]
  },
  {
   "cell_type": "code",
   "execution_count": 25,
   "id": "3ae1fd29",
   "metadata": {},
   "outputs": [],
   "source": [
    "t = t * 3"
   ]
  },
  {
   "cell_type": "code",
   "execution_count": 26,
   "id": "2f008312",
   "metadata": {},
   "outputs": [
    {
     "data": {
      "text/plain": [
       "('sepideh',\n",
       " 'sara',\n",
       " 'sogand',\n",
       " 'sepideh',\n",
       " 'sara',\n",
       " 'sogand',\n",
       " 'sepideh',\n",
       " 'sara',\n",
       " 'sogand')"
      ]
     },
     "execution_count": 26,
     "metadata": {},
     "output_type": "execute_result"
    }
   ],
   "source": [
    "t"
   ]
  },
  {
   "cell_type": "code",
   "execution_count": 27,
   "id": "13f431d2",
   "metadata": {},
   "outputs": [
    {
     "data": {
      "text/plain": [
       "True"
      ]
     },
     "execution_count": 27,
     "metadata": {},
     "output_type": "execute_result"
    }
   ],
   "source": [
    "'sepideh' in t"
   ]
  },
  {
   "cell_type": "code",
   "execution_count": 28,
   "id": "d91d81b1",
   "metadata": {},
   "outputs": [
    {
     "data": {
      "text/plain": [
       "3"
      ]
     },
     "execution_count": 28,
     "metadata": {},
     "output_type": "execute_result"
    }
   ],
   "source": [
    "t.count('sepideh')"
   ]
  },
  {
   "cell_type": "code",
   "execution_count": 29,
   "id": "fb6f0d45",
   "metadata": {},
   "outputs": [],
   "source": [
    "# inplace ops are not availabe in tupes"
   ]
  },
  {
   "cell_type": "code",
   "execution_count": 30,
   "id": "d3538cdc",
   "metadata": {},
   "outputs": [
    {
     "data": {
      "text/plain": [
       "2"
      ]
     },
     "execution_count": 30,
     "metadata": {},
     "output_type": "execute_result"
    }
   ],
   "source": [
    "t.index('sogand')"
   ]
  },
  {
   "cell_type": "code",
   "execution_count": 33,
   "id": "8575a1b7",
   "metadata": {},
   "outputs": [
    {
     "data": {
      "text/plain": [
       "('sara',\n",
       " 'sara',\n",
       " 'sara',\n",
       " 'sepideh',\n",
       " 'sepideh',\n",
       " 'sepideh',\n",
       " 'sogand',\n",
       " 'sogand',\n",
       " 'sogand')"
      ]
     },
     "execution_count": 33,
     "metadata": {},
     "output_type": "execute_result"
    }
   ],
   "source": [
    "# output of sorted() is alwyas a list. we should call tuple()\n",
    "tuple(sorted(t))"
   ]
  },
  {
   "cell_type": "code",
   "execution_count": 34,
   "id": "379d85b8",
   "metadata": {},
   "outputs": [
    {
     "data": {
      "text/plain": [
       "('sogand',\n",
       " 'sara',\n",
       " 'sepideh',\n",
       " 'sogand',\n",
       " 'sara',\n",
       " 'sepideh',\n",
       " 'sogand',\n",
       " 'sara',\n",
       " 'sepideh')"
      ]
     },
     "execution_count": 34,
     "metadata": {},
     "output_type": "execute_result"
    }
   ],
   "source": [
    "tuple(reversed(t))"
   ]
  },
  {
   "cell_type": "code",
   "execution_count": null,
   "id": "b6c47bc5",
   "metadata": {},
   "outputs": [],
   "source": []
  },
  {
   "cell_type": "code",
   "execution_count": null,
   "id": "3d8aa098",
   "metadata": {},
   "outputs": [],
   "source": []
  },
  {
   "cell_type": "code",
   "execution_count": null,
   "id": "dab240ac",
   "metadata": {},
   "outputs": [],
   "source": []
  },
  {
   "cell_type": "code",
   "execution_count": null,
   "id": "d130d9c0",
   "metadata": {},
   "outputs": [],
   "source": []
  },
  {
   "cell_type": "code",
   "execution_count": null,
   "id": "d7ea104e",
   "metadata": {},
   "outputs": [],
   "source": []
  }
 ],
 "metadata": {
  "kernelspec": {
   "display_name": "work",
   "language": "python",
   "name": "python3"
  },
  "language_info": {
   "codemirror_mode": {
    "name": "ipython",
    "version": 3
   },
   "file_extension": ".py",
   "mimetype": "text/x-python",
   "name": "python",
   "nbconvert_exporter": "python",
   "pygments_lexer": "ipython3",
   "version": "3.9.21"
  }
 },
 "nbformat": 4,
 "nbformat_minor": 5
}
