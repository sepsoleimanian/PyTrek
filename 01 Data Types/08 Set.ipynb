{
 "cells": [
  {
   "cell_type": "code",
   "execution_count": 1,
   "id": "6490a315",
   "metadata": {},
   "outputs": [],
   "source": [
    "\n",
    "l = [1, 2, 3, 3, 3, 3, 3, 3,]"
   ]
  },
  {
   "cell_type": "code",
   "execution_count": 4,
   "id": "4df8c505",
   "metadata": {},
   "outputs": [],
   "source": [
    "s = set(l)"
   ]
  },
  {
   "cell_type": "code",
   "execution_count": 5,
   "id": "64580d42",
   "metadata": {},
   "outputs": [
    {
     "data": {
      "text/plain": [
       "{1, 2, 3}"
      ]
     },
     "execution_count": 5,
     "metadata": {},
     "output_type": "execute_result"
    }
   ],
   "source": [
    "s"
   ]
  },
  {
   "cell_type": "code",
   "execution_count": 7,
   "id": "a4546b81",
   "metadata": {},
   "outputs": [],
   "source": [
    "# sets are mutuable, unordered, unique, unindexed\n",
    "# sets are mostly used for searching"
   ]
  },
  {
   "cell_type": "code",
   "execution_count": 8,
   "id": "31a074ad",
   "metadata": {},
   "outputs": [],
   "source": [
    "my_set = {1, 2, 3, 4, 4}"
   ]
  },
  {
   "cell_type": "code",
   "execution_count": 9,
   "id": "3735387b",
   "metadata": {},
   "outputs": [
    {
     "data": {
      "text/plain": [
       "{1, 2, 3, 4}"
      ]
     },
     "execution_count": 9,
     "metadata": {},
     "output_type": "execute_result"
    }
   ],
   "source": [
    "my_set"
   ]
  },
  {
   "cell_type": "code",
   "execution_count": 10,
   "id": "10e5feb8",
   "metadata": {},
   "outputs": [
    {
     "data": {
      "text/plain": [
       "set()"
      ]
     },
     "execution_count": 10,
     "metadata": {},
     "output_type": "execute_result"
    }
   ],
   "source": [
    "set()"
   ]
  },
  {
   "cell_type": "code",
   "execution_count": 11,
   "id": "1c922acf",
   "metadata": {},
   "outputs": [
    {
     "data": {
      "text/plain": [
       "dict"
      ]
     },
     "execution_count": 11,
     "metadata": {},
     "output_type": "execute_result"
    }
   ],
   "source": [
    "type({})"
   ]
  },
  {
   "cell_type": "code",
   "execution_count": 12,
   "id": "e0153592",
   "metadata": {},
   "outputs": [],
   "source": [
    "empty_Set = set()"
   ]
  },
  {
   "cell_type": "code",
   "execution_count": 13,
   "id": "5145c073",
   "metadata": {},
   "outputs": [
    {
     "data": {
      "text/plain": [
       "{'S', 'd', 'e', 'h', 'i', 'p'}"
      ]
     },
     "execution_count": 13,
     "metadata": {},
     "output_type": "execute_result"
    }
   ],
   "source": [
    "set('Sepideh')"
   ]
  },
  {
   "cell_type": "code",
   "execution_count": 14,
   "id": "0c85ad7d",
   "metadata": {},
   "outputs": [],
   "source": [
    "names = {'sepideh', 'sepehr', 'sogand', 'reza'}"
   ]
  },
  {
   "cell_type": "code",
   "execution_count": 15,
   "id": "43df3ed2",
   "metadata": {},
   "outputs": [
    {
     "ename": "TypeError",
     "evalue": "'set' object is not subscriptable",
     "output_type": "error",
     "traceback": [
      "\u001b[0;31m---------------------------------------------------------------------------\u001b[0m",
      "\u001b[0;31mTypeError\u001b[0m                                 Traceback (most recent call last)",
      "Cell \u001b[0;32mIn[15], line 1\u001b[0m\n\u001b[0;32m----> 1\u001b[0m \u001b[43mnames\u001b[49m\u001b[43m[\u001b[49m\u001b[38;5;241;43m1\u001b[39;49m\u001b[43m]\u001b[49m\n",
      "\u001b[0;31mTypeError\u001b[0m: 'set' object is not subscriptable"
     ]
    }
   ],
   "source": [
    "names[1]"
   ]
  },
  {
   "cell_type": "code",
   "execution_count": 16,
   "id": "00499634",
   "metadata": {},
   "outputs": [
    {
     "data": {
      "text/plain": [
       "True"
      ]
     },
     "execution_count": 16,
     "metadata": {},
     "output_type": "execute_result"
    }
   ],
   "source": [
    "'sepideh' in names"
   ]
  },
  {
   "cell_type": "code",
   "execution_count": null,
   "id": "65514813",
   "metadata": {},
   "outputs": [
    {
     "name": "stderr",
     "output_type": "stream",
     "text": [
      "UsageError: Cell magic `%%t` not found.\n"
     ]
    }
   ],
   "source": []
  },
  {
   "cell_type": "code",
   "execution_count": 18,
   "id": "107fcae4",
   "metadata": {},
   "outputs": [],
   "source": [
    "l = list(range(1000000))"
   ]
  },
  {
   "cell_type": "code",
   "execution_count": 19,
   "id": "fc996956",
   "metadata": {},
   "outputs": [],
   "source": [
    "s = set(l)"
   ]
  },
  {
   "cell_type": "code",
   "execution_count": 23,
   "id": "bb0d2de2",
   "metadata": {},
   "outputs": [
    {
     "name": "stdout",
     "output_type": "stream",
     "text": [
      "355 µs ± 32.1 µs per loop (mean ± std. dev. of 7 runs, 1,000 loops each)\n"
     ]
    }
   ],
   "source": [
    "%%timeit\n",
    "50000 in l"
   ]
  },
  {
   "cell_type": "code",
   "execution_count": 24,
   "id": "aeed678c",
   "metadata": {},
   "outputs": [
    {
     "name": "stdout",
     "output_type": "stream",
     "text": [
      "34.8 ns ± 0.572 ns per loop (mean ± std. dev. of 7 runs, 10,000,000 loops each)\n"
     ]
    }
   ],
   "source": [
    "%%timeit\n",
    "50000 in s"
   ]
  },
  {
   "cell_type": "code",
   "execution_count": 56,
   "id": "c41c1872",
   "metadata": {},
   "outputs": [],
   "source": [
    "names_set = {'sepideh', 'sogand', 'sepehr', 'sina', 'setareh'}"
   ]
  },
  {
   "cell_type": "code",
   "execution_count": 57,
   "id": "6399d341",
   "metadata": {},
   "outputs": [],
   "source": [
    "names_list = list(names_set)"
   ]
  },
  {
   "cell_type": "code",
   "execution_count": 58,
   "id": "38e3e2c9",
   "metadata": {},
   "outputs": [
    {
     "data": {
      "text/plain": [
       "['sepehr', 'sina', 'sepideh', 'sogand', 'setareh']"
      ]
     },
     "execution_count": 58,
     "metadata": {},
     "output_type": "execute_result"
    }
   ],
   "source": [
    "names_list"
   ]
  },
  {
   "cell_type": "code",
   "execution_count": 59,
   "id": "3d8f2328",
   "metadata": {},
   "outputs": [
    {
     "data": {
      "text/plain": [
       "'sina'"
      ]
     },
     "execution_count": 59,
     "metadata": {},
     "output_type": "execute_result"
    }
   ],
   "source": [
    "names_list[1]"
   ]
  },
  {
   "cell_type": "code",
   "execution_count": 60,
   "id": "215d367c",
   "metadata": {},
   "outputs": [
    {
     "data": {
      "text/plain": [
       "'sepehr'"
      ]
     },
     "execution_count": 60,
     "metadata": {},
     "output_type": "execute_result"
    }
   ],
   "source": [
    "# random pop out\n",
    "names_set.pop()"
   ]
  },
  {
   "cell_type": "code",
   "execution_count": 61,
   "id": "c39911b3",
   "metadata": {},
   "outputs": [],
   "source": [
    "names_set.add('mina')"
   ]
  },
  {
   "cell_type": "code",
   "execution_count": 62,
   "id": "9835e88a",
   "metadata": {},
   "outputs": [
    {
     "data": {
      "text/plain": [
       "{'mina', 'sepideh', 'setareh', 'sina', 'sogand'}"
      ]
     },
     "execution_count": 62,
     "metadata": {},
     "output_type": "execute_result"
    }
   ],
   "source": [
    "names_set"
   ]
  },
  {
   "cell_type": "code",
   "execution_count": 63,
   "id": "6fa659bf",
   "metadata": {},
   "outputs": [],
   "source": [
    "# adding more than one element\n",
    "names_set.update({'tina', 'mitra'})"
   ]
  },
  {
   "cell_type": "code",
   "execution_count": 64,
   "id": "3c682aac",
   "metadata": {},
   "outputs": [
    {
     "data": {
      "text/plain": [
       "{'mina', 'mitra', 'sepideh', 'setareh', 'sina', 'sogand', 'tina'}"
      ]
     },
     "execution_count": 64,
     "metadata": {},
     "output_type": "execute_result"
    }
   ],
   "source": [
    "names_set"
   ]
  },
  {
   "cell_type": "code",
   "execution_count": 65,
   "id": "e3b5f175",
   "metadata": {},
   "outputs": [],
   "source": [
    "# just like update\n",
    "names_set |= {'samira'}"
   ]
  },
  {
   "cell_type": "code",
   "execution_count": 66,
   "id": "f2eceea6",
   "metadata": {},
   "outputs": [
    {
     "data": {
      "text/plain": [
       "{'mina', 'mitra', 'samira', 'sepideh', 'setareh', 'sina', 'sogand', 'tina'}"
      ]
     },
     "execution_count": 66,
     "metadata": {},
     "output_type": "execute_result"
    }
   ],
   "source": [
    "names_set"
   ]
  },
  {
   "cell_type": "code",
   "execution_count": 67,
   "id": "a877df2a",
   "metadata": {},
   "outputs": [],
   "source": [
    "names_set.remove('sepideh')"
   ]
  },
  {
   "cell_type": "code",
   "execution_count": 68,
   "id": "584b399f",
   "metadata": {},
   "outputs": [
    {
     "ename": "KeyError",
     "evalue": "'ali'",
     "output_type": "error",
     "traceback": [
      "\u001b[0;31m---------------------------------------------------------------------------\u001b[0m",
      "\u001b[0;31mKeyError\u001b[0m                                  Traceback (most recent call last)",
      "Cell \u001b[0;32mIn[68], line 1\u001b[0m\n\u001b[0;32m----> 1\u001b[0m \u001b[43mnames_set\u001b[49m\u001b[38;5;241;43m.\u001b[39;49m\u001b[43mremove\u001b[49m\u001b[43m(\u001b[49m\u001b[38;5;124;43m'\u001b[39;49m\u001b[38;5;124;43mali\u001b[39;49m\u001b[38;5;124;43m'\u001b[39;49m\u001b[43m)\u001b[49m\n",
      "\u001b[0;31mKeyError\u001b[0m: 'ali'"
     ]
    }
   ],
   "source": [
    "names_set.remove('ali')"
   ]
  },
  {
   "cell_type": "code",
   "execution_count": 69,
   "id": "8239a8f3",
   "metadata": {},
   "outputs": [],
   "source": [
    "# if that element is available, remove it. if it is not available, do not crash\n",
    "names_set.discard('ahamd')"
   ]
  },
  {
   "cell_type": "code",
   "execution_count": 70,
   "id": "bd899f07",
   "metadata": {},
   "outputs": [],
   "source": [
    "names_set.clear()"
   ]
  },
  {
   "cell_type": "code",
   "execution_count": 81,
   "id": "8802ddff",
   "metadata": {},
   "outputs": [],
   "source": [
    "s1 = {1, 2, 3}\n",
    "s2 = {2, 3, 4}\n",
    "s3 = {7, 8, 9}"
   ]
  },
  {
   "cell_type": "code",
   "execution_count": 77,
   "id": "36b47d95",
   "metadata": {},
   "outputs": [
    {
     "data": {
      "text/plain": [
       "{1, 2, 3, 4}"
      ]
     },
     "execution_count": 77,
     "metadata": {},
     "output_type": "execute_result"
    }
   ],
   "source": [
    "# union\n",
    "s1 | s2"
   ]
  },
  {
   "cell_type": "code",
   "execution_count": 78,
   "id": "676a5dce",
   "metadata": {},
   "outputs": [
    {
     "data": {
      "text/plain": [
       "{1, 2, 3, 4}"
      ]
     },
     "execution_count": 78,
     "metadata": {},
     "output_type": "execute_result"
    }
   ],
   "source": [
    "s1.union(s2)"
   ]
  },
  {
   "cell_type": "code",
   "execution_count": 79,
   "id": "2ddcb307",
   "metadata": {},
   "outputs": [
    {
     "data": {
      "text/plain": [
       "{1, 2, 3, 7, 8, 9}"
      ]
     },
     "execution_count": 79,
     "metadata": {},
     "output_type": "execute_result"
    }
   ],
   "source": [
    "s1.union([7, 8, 9])"
   ]
  },
  {
   "cell_type": "code",
   "execution_count": 80,
   "id": "57d7446b",
   "metadata": {},
   "outputs": [
    {
     "ename": "TypeError",
     "evalue": "unsupported operand type(s) for |: 'set' and 'list'",
     "output_type": "error",
     "traceback": [
      "\u001b[0;31m---------------------------------------------------------------------------\u001b[0m",
      "\u001b[0;31mTypeError\u001b[0m                                 Traceback (most recent call last)",
      "Cell \u001b[0;32mIn[80], line 1\u001b[0m\n\u001b[0;32m----> 1\u001b[0m \u001b[43ms1\u001b[49m\u001b[43m \u001b[49m\u001b[38;5;241;43m|\u001b[39;49m\u001b[43m \u001b[49m\u001b[43m[\u001b[49m\u001b[38;5;241;43m10\u001b[39;49m\u001b[43m,\u001b[49m\u001b[43m \u001b[49m\u001b[38;5;241;43m11\u001b[39;49m\u001b[43m]\u001b[49m\n",
      "\u001b[0;31mTypeError\u001b[0m: unsupported operand type(s) for |: 'set' and 'list'"
     ]
    }
   ],
   "source": [
    "s1 | [10, 11]"
   ]
  },
  {
   "cell_type": "code",
   "execution_count": 82,
   "id": "fdaa042d",
   "metadata": {},
   "outputs": [
    {
     "data": {
      "text/plain": [
       "{1, 2, 3, 4, 7, 8, 9}"
      ]
     },
     "execution_count": 82,
     "metadata": {},
     "output_type": "execute_result"
    }
   ],
   "source": [
    "s1 | s2 | s3 "
   ]
  },
  {
   "cell_type": "code",
   "execution_count": 84,
   "id": "4aedde0a",
   "metadata": {},
   "outputs": [
    {
     "data": {
      "text/plain": [
       "{1, 10, 2, 3, 8, 9, 'a', 'b'}"
      ]
     },
     "execution_count": 84,
     "metadata": {},
     "output_type": "execute_result"
    }
   ],
   "source": [
    "s1.union([8, 9, 10], {'a': 1, 'b': 2})\n",
    "# iterate over keys"
   ]
  },
  {
   "cell_type": "code",
   "execution_count": 86,
   "id": "590d523c",
   "metadata": {},
   "outputs": [
    {
     "data": {
      "text/plain": [
       "set()"
      ]
     },
     "execution_count": 86,
     "metadata": {},
     "output_type": "execute_result"
    }
   ],
   "source": [
    "# intersection\n",
    "s1 & s2 & s3"
   ]
  },
  {
   "cell_type": "code",
   "execution_count": 88,
   "id": "4c82ba37",
   "metadata": {},
   "outputs": [
    {
     "data": {
      "text/plain": [
       "set()"
      ]
     },
     "execution_count": 88,
     "metadata": {},
     "output_type": "execute_result"
    }
   ],
   "source": [
    "s1.intersection(s2, s3, [0])"
   ]
  },
  {
   "cell_type": "code",
   "execution_count": 89,
   "id": "94736394",
   "metadata": {},
   "outputs": [
    {
     "data": {
      "text/plain": [
       "{1}"
      ]
     },
     "execution_count": 89,
     "metadata": {},
     "output_type": "execute_result"
    }
   ],
   "source": [
    "s1 - s2"
   ]
  },
  {
   "cell_type": "code",
   "execution_count": 90,
   "id": "650ac89d",
   "metadata": {},
   "outputs": [
    {
     "data": {
      "text/plain": [
       "{1}"
      ]
     },
     "execution_count": 90,
     "metadata": {},
     "output_type": "execute_result"
    }
   ],
   "source": [
    "s1 - s2 -s3"
   ]
  },
  {
   "cell_type": "code",
   "execution_count": 91,
   "id": "33118b63",
   "metadata": {},
   "outputs": [
    {
     "data": {
      "text/plain": [
       "{1}"
      ]
     },
     "execution_count": 91,
     "metadata": {},
     "output_type": "execute_result"
    }
   ],
   "source": [
    "s1.difference(s2, s3)"
   ]
  },
  {
   "cell_type": "code",
   "execution_count": 93,
   "id": "000494a3",
   "metadata": {},
   "outputs": [
    {
     "data": {
      "text/plain": [
       "{1, 4}"
      ]
     },
     "execution_count": 93,
     "metadata": {},
     "output_type": "execute_result"
    }
   ],
   "source": [
    "# union - intersect\n",
    "s1 ^ s2"
   ]
  },
  {
   "cell_type": "code",
   "execution_count": 96,
   "id": "c12ec985",
   "metadata": {},
   "outputs": [
    {
     "data": {
      "text/plain": [
       "{1, 4}"
      ]
     },
     "execution_count": 96,
     "metadata": {},
     "output_type": "execute_result"
    }
   ],
   "source": [
    "# in this form, symmetric dif will not chain\n",
    "s1.symmetric_difference(s2)"
   ]
  },
  {
   "cell_type": "code",
   "execution_count": 97,
   "id": "e70a981b",
   "metadata": {},
   "outputs": [],
   "source": [
    "main = {1, 2, 3, 4, 5, 6, 7, 8,(1, 3)}"
   ]
  },
  {
   "cell_type": "code",
   "execution_count": 98,
   "id": "5941b947",
   "metadata": {},
   "outputs": [
    {
     "data": {
      "text/plain": [
       "{(1, 3), 1, 2, 3, 4, 5, 6, 7, 8}"
      ]
     },
     "execution_count": 98,
     "metadata": {},
     "output_type": "execute_result"
    }
   ],
   "source": [
    "main"
   ]
  },
  {
   "cell_type": "code",
   "execution_count": 99,
   "id": "372f76ca",
   "metadata": {},
   "outputs": [
    {
     "data": {
      "text/plain": [
       "True"
      ]
     },
     "execution_count": 99,
     "metadata": {},
     "output_type": "execute_result"
    }
   ],
   "source": [
    "{1, 2}.issubset(main)"
   ]
  },
  {
   "cell_type": "code",
   "execution_count": 101,
   "id": "83c28a99",
   "metadata": {},
   "outputs": [
    {
     "data": {
      "text/plain": [
       "True"
      ]
     },
     "execution_count": 101,
     "metadata": {},
     "output_type": "execute_result"
    }
   ],
   "source": [
    "{(1, 3)}.issubset(main)"
   ]
  },
  {
   "cell_type": "code",
   "execution_count": 102,
   "id": "56e48b1b",
   "metadata": {},
   "outputs": [
    {
     "data": {
      "text/plain": [
       "True"
      ]
     },
     "execution_count": 102,
     "metadata": {},
     "output_type": "execute_result"
    }
   ],
   "source": [
    "main.issuperset(s1)"
   ]
  },
  {
   "cell_type": "code",
   "execution_count": 105,
   "id": "2b8bd3f2",
   "metadata": {},
   "outputs": [
    {
     "data": {
      "text/plain": [
       "True"
      ]
     },
     "execution_count": 105,
     "metadata": {},
     "output_type": "execute_result"
    }
   ],
   "source": [
    "# dissjoint looks for no intersection\n",
    "set_disjoint = {43, 9876}\n",
    "set_disjoint.isdisjoint(main)"
   ]
  },
  {
   "cell_type": "code",
   "execution_count": 109,
   "id": "ae465ef4",
   "metadata": {},
   "outputs": [
    {
     "data": {
      "text/plain": [
       "False"
      ]
     },
     "execution_count": 109,
     "metadata": {},
     "output_type": "execute_result"
    }
   ],
   "source": [
    "# Same with next cell\n",
    "len(s1 & s2) == 0"
   ]
  },
  {
   "cell_type": "code",
   "execution_count": 110,
   "id": "d7be23b9",
   "metadata": {},
   "outputs": [
    {
     "data": {
      "text/plain": [
       "False"
      ]
     },
     "execution_count": 110,
     "metadata": {},
     "output_type": "execute_result"
    }
   ],
   "source": [
    "s1.isdisjoint(s2)"
   ]
  }
 ],
 "metadata": {
  "kernelspec": {
   "display_name": "work",
   "language": "python",
   "name": "python3"
  },
  "language_info": {
   "codemirror_mode": {
    "name": "ipython",
    "version": 3
   },
   "file_extension": ".py",
   "mimetype": "text/x-python",
   "name": "python",
   "nbconvert_exporter": "python",
   "pygments_lexer": "ipython3",
   "version": "3.9.21"
  }
 },
 "nbformat": 4,
 "nbformat_minor": 5
}
