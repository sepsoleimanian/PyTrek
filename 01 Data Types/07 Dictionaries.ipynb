{
 "cells": [
  {
   "cell_type": "code",
   "execution_count": 2,
   "id": "8cb398af",
   "metadata": {},
   "outputs": [],
   "source": [
    "my_dict = {'name' : 'sepideh', 'age' : 24, 'country' : 'Iran'}"
   ]
  },
  {
   "cell_type": "code",
   "execution_count": 3,
   "id": "0ba3699b",
   "metadata": {},
   "outputs": [
    {
     "data": {
      "text/plain": [
       "{'name': 'sepideh', 'age': 24, 'country': 'Iran'}"
      ]
     },
     "execution_count": 3,
     "metadata": {},
     "output_type": "execute_result"
    }
   ],
   "source": [
    "my_dict"
   ]
  },
  {
   "cell_type": "code",
   "execution_count": 4,
   "id": "72513d84",
   "metadata": {},
   "outputs": [
    {
     "data": {
      "text/plain": [
       "'sepideh'"
      ]
     },
     "execution_count": 4,
     "metadata": {},
     "output_type": "execute_result"
    }
   ],
   "source": [
    "my_dict['name']"
   ]
  },
  {
   "cell_type": "code",
   "execution_count": 5,
   "id": "2f100208",
   "metadata": {},
   "outputs": [],
   "source": [
    "# Dicts are mutable  \n",
    "my_dict['name'] = 'sara'"
   ]
  },
  {
   "cell_type": "code",
   "execution_count": 6,
   "id": "ee5c2533",
   "metadata": {},
   "outputs": [
    {
     "data": {
      "text/plain": [
       "{'name': 'sara', 'age': 24, 'country': 'Iran'}"
      ]
     },
     "execution_count": 6,
     "metadata": {},
     "output_type": "execute_result"
    }
   ],
   "source": [
    "my_dict"
   ]
  },
  {
   "cell_type": "code",
   "execution_count": 7,
   "id": "40defbe9",
   "metadata": {},
   "outputs": [],
   "source": [
    "del my_dict['name']"
   ]
  },
  {
   "cell_type": "code",
   "execution_count": 8,
   "id": "02f120f7",
   "metadata": {},
   "outputs": [
    {
     "data": {
      "text/plain": [
       "{'age': 24, 'country': 'Iran'}"
      ]
     },
     "execution_count": 8,
     "metadata": {},
     "output_type": "execute_result"
    }
   ],
   "source": [
    "my_dict"
   ]
  },
  {
   "cell_type": "code",
   "execution_count": 9,
   "id": "4e22b792",
   "metadata": {},
   "outputs": [],
   "source": [
    "# in dicts, keys are unique"
   ]
  },
  {
   "cell_type": "code",
   "execution_count": 11,
   "id": "8105d110",
   "metadata": {},
   "outputs": [
    {
     "data": {
      "text/plain": [
       "{}"
      ]
     },
     "execution_count": 11,
     "metadata": {},
     "output_type": "execute_result"
    }
   ],
   "source": [
    "test_dict = {}\n",
    "test_dict"
   ]
  },
  {
   "cell_type": "code",
   "execution_count": 16,
   "id": "db5468ee",
   "metadata": {},
   "outputs": [
    {
     "data": {
      "text/plain": [
       "{'Sepideh': [19, 20, 17], 'Sara': 17, 'Sogand': 19.25}"
      ]
     },
     "execution_count": 16,
     "metadata": {},
     "output_type": "execute_result"
    }
   ],
   "source": [
    "students_grades = {\n",
    "  'Sepideh' : [19, 20, 17],\n",
    "  'Sara' : 17,\n",
    "  'Sogand' : 19.25,\n",
    "}\n",
    "\n",
    "students_grades"
   ]
  },
  {
   "cell_type": "code",
   "execution_count": 17,
   "id": "60cf5d2f",
   "metadata": {},
   "outputs": [],
   "source": [
    "test = dict(\n",
    "  [\n",
    "    ('sepideh', 19),\n",
    "    ('mina', 17)\n",
    "  ]\n",
    ")"
   ]
  },
  {
   "cell_type": "code",
   "execution_count": 18,
   "metadata": {},
   "outputs": [
    {
     "data": {
      "text/plain": [
       "{'sepideh': 19, 'mina': 17}"
      ]
     },
     "execution_count": 18,
     "metadata": {},
     "output_type": "execute_result"
    }
   ],
   "source": [
    "test"
   ]
  },
  {
   "cell_type": "code",
   "execution_count": null,
   "id": "1e7625c6",
   "metadata": {},
   "outputs": [
    {
     "data": {
      "text/plain": [
       "{'sepideh': 24, 'mina': 18, 'sepehr': 21}"
      ]
     },
     "execution_count": 19,
     "metadata": {},
     "output_type": "execute_result"
    }
   ],
   "source": [
    "# we do not need \" \" here because there are var names.\n",
    "test_2 = dict(sepideh = 24, mina = 18, sepehr = 21)\n",
    "test_2"
   ]
  },
  {
   "cell_type": "code",
   "execution_count": 20,
   "id": "deef923f",
   "metadata": {},
   "outputs": [],
   "source": [
    "# Mutable data types are unhashable\n",
    "# Key aof dicts should be hashable(Like tuples)\n",
    "# So, lists cannot be in dict's keys"
   ]
  },
  {
   "cell_type": "code",
   "execution_count": 21,
   "id": "3261dadd",
   "metadata": {},
   "outputs": [
    {
     "data": {
      "text/plain": [
       "-3550055125485641917"
      ]
     },
     "execution_count": 21,
     "metadata": {},
     "output_type": "execute_result"
    }
   ],
   "source": [
    "hash((1,2))"
   ]
  },
  {
   "cell_type": "code",
   "execution_count": 23,
   "id": "a7294c04",
   "metadata": {},
   "outputs": [
    {
     "ename": "TypeError",
     "evalue": "unhashable type: 'list'",
     "output_type": "error",
     "traceback": [
      "\u001b[0;31m---------------------------------------------------------------------------\u001b[0m",
      "\u001b[0;31mTypeError\u001b[0m                                 Traceback (most recent call last)",
      "Cell \u001b[0;32mIn[23], line 1\u001b[0m\n\u001b[0;32m----> 1\u001b[0m \u001b[38;5;28;43mhash\u001b[39;49m\u001b[43m(\u001b[49m\u001b[43m[\u001b[49m\u001b[38;5;241;43m1\u001b[39;49m\u001b[43m,\u001b[49m\u001b[38;5;241;43m2\u001b[39;49m\u001b[43m]\u001b[49m\u001b[43m)\u001b[49m\n",
      "\u001b[0;31mTypeError\u001b[0m: unhashable type: 'list'"
     ]
    }
   ],
   "source": [
    "hash([1,2])"
   ]
  },
  {
   "cell_type": "code",
   "execution_count": 24,
   "id": "cbb72569",
   "metadata": {},
   "outputs": [],
   "source": [
    "info = {\n",
    "  'name': 'sepideh',\n",
    "  'age': 24,\n",
    "  'country' : 'Iran'\n",
    "}"
   ]
  },
  {
   "cell_type": "code",
   "execution_count": 25,
   "id": "0448278a",
   "metadata": {},
   "outputs": [
    {
     "data": {
      "text/plain": [
       "'sepideh'"
      ]
     },
     "execution_count": 25,
     "metadata": {},
     "output_type": "execute_result"
    }
   ],
   "source": [
    "info['name']"
   ]
  },
  {
   "cell_type": "code",
   "execution_count": 26,
   "id": "2db485ae",
   "metadata": {},
   "outputs": [
    {
     "ename": "KeyError",
     "evalue": "'city'",
     "output_type": "error",
     "traceback": [
      "\u001b[0;31m---------------------------------------------------------------------------\u001b[0m",
      "\u001b[0;31mKeyError\u001b[0m                                  Traceback (most recent call last)",
      "Cell \u001b[0;32mIn[26], line 1\u001b[0m\n\u001b[0;32m----> 1\u001b[0m \u001b[43minfo\u001b[49m\u001b[43m[\u001b[49m\u001b[38;5;124;43m'\u001b[39;49m\u001b[38;5;124;43mcity\u001b[39;49m\u001b[38;5;124;43m'\u001b[39;49m\u001b[43m]\u001b[49m\n",
      "\u001b[0;31mKeyError\u001b[0m: 'city'"
     ]
    }
   ],
   "source": [
    "info['city']"
   ]
  },
  {
   "cell_type": "code",
   "execution_count": 27,
   "id": "3b89ed6c",
   "metadata": {},
   "outputs": [
    {
     "data": {
      "text/plain": [
       "'sepideh'"
      ]
     },
     "execution_count": 27,
     "metadata": {},
     "output_type": "execute_result"
    }
   ],
   "source": [
    "info.get('name')"
   ]
  },
  {
   "cell_type": "code",
   "execution_count": null,
   "id": "e750b26a",
   "metadata": {},
   "outputs": [],
   "source": [
    "info.get('city')"
   ]
  },
  {
   "cell_type": "code",
   "execution_count": 29,
   "metadata": {},
   "outputs": [
    {
     "name": "stdout",
     "output_type": "stream",
     "text": [
      "None\n"
     ]
    }
   ],
   "source": [
    "print(info.get('city'))"
   ]
  },
  {
   "cell_type": "code",
   "execution_count": 30,
   "metadata": {},
   "outputs": [
    {
     "data": {
      "text/plain": [
       "24"
      ]
     },
     "execution_count": 30,
     "metadata": {},
     "output_type": "execute_result"
    }
   ],
   "source": [
    "info.get('age', 'idk')"
   ]
  },
  {
   "cell_type": "code",
   "execution_count": 32,
   "id": "3e4340ee",
   "metadata": {},
   "outputs": [
    {
     "data": {
      "text/plain": [
       "'city is not available in keys'"
      ]
     },
     "execution_count": 32,
     "metadata": {},
     "output_type": "execute_result"
    }
   ],
   "source": [
    "info.get('city', 'city is not available in keys')"
   ]
  },
  {
   "cell_type": "code",
   "execution_count": 34,
   "id": "2f6e3b7d",
   "metadata": {},
   "outputs": [
    {
     "data": {
      "text/plain": [
       "dict_keys(['name', 'age', 'country'])"
      ]
     },
     "execution_count": 34,
     "metadata": {},
     "output_type": "execute_result"
    }
   ],
   "source": [
    "info.keys()"
   ]
  },
  {
   "cell_type": "code",
   "execution_count": 35,
   "id": "795bbc91",
   "metadata": {},
   "outputs": [
    {
     "data": {
      "text/plain": [
       "dict_values(['sepideh', 24, 'Iran'])"
      ]
     },
     "execution_count": 35,
     "metadata": {},
     "output_type": "execute_result"
    }
   ],
   "source": [
    "info.values()"
   ]
  },
  {
   "cell_type": "code",
   "execution_count": 36,
   "id": "3b10f610",
   "metadata": {},
   "outputs": [
    {
     "data": {
      "text/plain": [
       "dict_items([('name', 'sepideh'), ('age', 24), ('country', 'Iran')])"
      ]
     },
     "execution_count": 36,
     "metadata": {},
     "output_type": "execute_result"
    }
   ],
   "source": [
    "info.items()"
   ]
  },
  {
   "cell_type": "code",
   "execution_count": 37,
   "id": "3518c78a",
   "metadata": {},
   "outputs": [
    {
     "name": "stdout",
     "output_type": "stream",
     "text": [
      "name\n",
      "age\n",
      "country\n"
     ]
    }
   ],
   "source": [
    "for key in info.keys():\n",
    "  print(key)"
   ]
  },
  {
   "cell_type": "code",
   "execution_count": 38,
   "id": "a4c081e0",
   "metadata": {},
   "outputs": [
    {
     "name": "stdout",
     "output_type": "stream",
     "text": [
      "sepideh\n",
      "24\n",
      "Iran\n"
     ]
    }
   ],
   "source": [
    "for value in info.values():\n",
    "  print(value)"
   ]
  },
  {
   "cell_type": "code",
   "execution_count": 39,
   "id": "a29cb49f",
   "metadata": {},
   "outputs": [
    {
     "name": "stdout",
     "output_type": "stream",
     "text": [
      "('name', 'sepideh')\n",
      "('age', 24)\n",
      "('country', 'Iran')\n"
     ]
    }
   ],
   "source": [
    "for items in info.items():\n",
    "  print(items)"
   ]
  },
  {
   "cell_type": "code",
   "execution_count": 40,
   "id": "64176702",
   "metadata": {},
   "outputs": [
    {
     "data": {
      "text/plain": [
       "{'name': 'sepideh', 'age': 24, 'country': 'Iran'}"
      ]
     },
     "execution_count": 40,
     "metadata": {},
     "output_type": "execute_result"
    }
   ],
   "source": [
    "dict(info.items())"
   ]
  },
  {
   "cell_type": "code",
   "execution_count": 41,
   "id": "9cde8a71",
   "metadata": {},
   "outputs": [
    {
     "data": {
      "text/plain": [
       "[('name', 'sepideh'), ('age', 24), ('country', 'Iran')]"
      ]
     },
     "execution_count": 41,
     "metadata": {},
     "output_type": "execute_result"
    }
   ],
   "source": [
    "list(info.items())"
   ]
  },
  {
   "cell_type": "code",
   "execution_count": 42,
   "id": "04c5732c",
   "metadata": {},
   "outputs": [],
   "source": [
    "info['city'] = 'Tehran'"
   ]
  },
  {
   "cell_type": "code",
   "execution_count": 43,
   "id": "2f0a6e88",
   "metadata": {},
   "outputs": [
    {
     "data": {
      "text/plain": [
       "{'name': 'sepideh', 'age': 24, 'country': 'Iran', 'city': 'Tehran'}"
      ]
     },
     "execution_count": 43,
     "metadata": {},
     "output_type": "execute_result"
    }
   ],
   "source": [
    "info"
   ]
  },
  {
   "cell_type": "code",
   "execution_count": 44,
   "id": "3ff9adb7",
   "metadata": {},
   "outputs": [],
   "source": [
    "info['country'] = 'USA'"
   ]
  },
  {
   "cell_type": "code",
   "execution_count": 45,
   "id": "ae7b7674",
   "metadata": {},
   "outputs": [
    {
     "data": {
      "text/plain": [
       "{'name': 'sepideh', 'age': 24, 'country': 'USA', 'city': 'Tehran'}"
      ]
     },
     "execution_count": 45,
     "metadata": {},
     "output_type": "execute_result"
    }
   ],
   "source": [
    "info"
   ]
  },
  {
   "cell_type": "code",
   "execution_count": 50,
   "id": "79033dfa",
   "metadata": {},
   "outputs": [],
   "source": [
    "# if key is availabe, the update and if key is new, then insert\n",
    "info.update(\n",
    "  {\n",
    "  'Mahsa': 28,\n",
    "  'Sepideh': 19,\n",
    "  }\n",
    ")"
   ]
  },
  {
   "cell_type": "code",
   "execution_count": 49,
   "id": "79f91f74",
   "metadata": {},
   "outputs": [
    {
     "data": {
      "text/plain": [
       "{'name': 'sepideh',\n",
       " 'age': 24,\n",
       " 'country': 'USA',\n",
       " 'city': 'Tehran',\n",
       " 'Mahsa': 28,\n",
       " 'Sepideh': 19}"
      ]
     },
     "execution_count": 49,
     "metadata": {},
     "output_type": "execute_result"
    }
   ],
   "source": [
    "info"
   ]
  },
  {
   "cell_type": "code",
   "execution_count": 51,
   "id": "efdbeea2",
   "metadata": {},
   "outputs": [],
   "source": [
    "new_info = {\n",
    "  'Team': 'A',\n",
    "  'Company': \"Google\"\n",
    "}"
   ]
  },
  {
   "cell_type": "code",
   "execution_count": 52,
   "id": "bdb90fa1",
   "metadata": {},
   "outputs": [],
   "source": [
    "info.update(new_info)"
   ]
  },
  {
   "cell_type": "code",
   "execution_count": 53,
   "id": "11de0674",
   "metadata": {},
   "outputs": [
    {
     "data": {
      "text/plain": [
       "{'name': 'sepideh',\n",
       " 'age': 24,\n",
       " 'country': 'USA',\n",
       " 'city': 'Tehran',\n",
       " 'Mahsa': 28,\n",
       " 'Sepideh': 19,\n",
       " 'Team': 'A',\n",
       " 'Company': 'Google'}"
      ]
     },
     "execution_count": 53,
     "metadata": {},
     "output_type": "execute_result"
    }
   ],
   "source": [
    "info"
   ]
  },
  {
   "cell_type": "code",
   "execution_count": 55,
   "id": "88c552b5",
   "metadata": {},
   "outputs": [],
   "source": [
    "del info['Team']"
   ]
  },
  {
   "cell_type": "code",
   "execution_count": 56,
   "id": "4a9e2c74",
   "metadata": {},
   "outputs": [
    {
     "data": {
      "text/plain": [
       "{'name': 'sepideh',\n",
       " 'age': 24,\n",
       " 'country': 'USA',\n",
       " 'city': 'Tehran',\n",
       " 'Mahsa': 28,\n",
       " 'Sepideh': 19,\n",
       " 'Company': 'Google'}"
      ]
     },
     "execution_count": 56,
     "metadata": {},
     "output_type": "execute_result"
    }
   ],
   "source": [
    "info"
   ]
  },
  {
   "cell_type": "code",
   "execution_count": 57,
   "id": "5dcfb3f2",
   "metadata": {},
   "outputs": [
    {
     "data": {
      "text/plain": [
       "24"
      ]
     },
     "execution_count": 57,
     "metadata": {},
     "output_type": "execute_result"
    }
   ],
   "source": [
    "info.pop('age')"
   ]
  },
  {
   "cell_type": "code",
   "execution_count": 58,
   "id": "b7859160",
   "metadata": {},
   "outputs": [
    {
     "data": {
      "text/plain": [
       "{'name': 'sepideh',\n",
       " 'country': 'USA',\n",
       " 'city': 'Tehran',\n",
       " 'Mahsa': 28,\n",
       " 'Sepideh': 19,\n",
       " 'Company': 'Google'}"
      ]
     },
     "execution_count": 58,
     "metadata": {},
     "output_type": "execute_result"
    }
   ],
   "source": [
    "info"
   ]
  },
  {
   "cell_type": "code",
   "execution_count": 59,
   "id": "ff2702a5",
   "metadata": {},
   "outputs": [
    {
     "ename": "TypeError",
     "evalue": "pop expected at least 1 argument, got 0",
     "output_type": "error",
     "traceback": [
      "\u001b[0;31m---------------------------------------------------------------------------\u001b[0m",
      "\u001b[0;31mTypeError\u001b[0m                                 Traceback (most recent call last)",
      "Cell \u001b[0;32mIn[59], line 1\u001b[0m\n\u001b[0;32m----> 1\u001b[0m \u001b[43minfo\u001b[49m\u001b[38;5;241;43m.\u001b[39;49m\u001b[43mpop\u001b[49m\u001b[43m(\u001b[49m\u001b[43m)\u001b[49m\n",
      "\u001b[0;31mTypeError\u001b[0m: pop expected at least 1 argument, got 0"
     ]
    }
   ],
   "source": [
    "info.pop()"
   ]
  },
  {
   "cell_type": "code",
   "execution_count": 60,
   "id": "e2afbf7e",
   "metadata": {},
   "outputs": [
    {
     "data": {
      "text/plain": [
       "('Company', 'Google')"
      ]
     },
     "execution_count": 60,
     "metadata": {},
     "output_type": "execute_result"
    }
   ],
   "source": [
    "info.popitem()"
   ]
  },
  {
   "cell_type": "code",
   "execution_count": 62,
   "id": "2826faef",
   "metadata": {},
   "outputs": [
    {
     "data": {
      "text/plain": [
       "{'name': 'sepideh',\n",
       " 'country': 'USA',\n",
       " 'city': 'Tehran',\n",
       " 'Mahsa': 28,\n",
       " 'Sepideh': 19}"
      ]
     },
     "execution_count": 62,
     "metadata": {},
     "output_type": "execute_result"
    }
   ],
   "source": [
    "info"
   ]
  },
  {
   "cell_type": "code",
   "execution_count": 63,
   "id": "02b12acf",
   "metadata": {},
   "outputs": [],
   "source": [
    "info.clear()"
   ]
  },
  {
   "cell_type": "code",
   "execution_count": 64,
   "id": "98208758",
   "metadata": {},
   "outputs": [
    {
     "data": {
      "text/plain": [
       "{}"
      ]
     },
     "execution_count": 64,
     "metadata": {},
     "output_type": "execute_result"
    }
   ],
   "source": [
    "info"
   ]
  },
  {
   "cell_type": "code",
   "execution_count": 65,
   "id": "cbdb59fc",
   "metadata": {},
   "outputs": [],
   "source": [
    "countries_pop = {\n",
    "  'Iran': 85,\n",
    "  'Canada': 30,\n",
    "  'USA': 300,\n",
    "}"
   ]
  },
  {
   "cell_type": "code",
   "execution_count": 66,
   "id": "506fb082",
   "metadata": {},
   "outputs": [
    {
     "data": {
      "text/plain": [
       "False"
      ]
     },
     "execution_count": 66,
     "metadata": {},
     "output_type": "execute_result"
    }
   ],
   "source": [
    "'China' in countries_pop"
   ]
  },
  {
   "cell_type": "code",
   "execution_count": 71,
   "id": "b6f61a76",
   "metadata": {},
   "outputs": [
    {
     "data": {
      "text/plain": [
       "True"
      ]
     },
     "execution_count": 71,
     "metadata": {},
     "output_type": "execute_result"
    }
   ],
   "source": [
    "# <<in>> operator iterates over keys\n",
    "'Iran' in countries_pop"
   ]
  },
  {
   "cell_type": "code",
   "execution_count": 72,
   "id": "1b9f6a1f",
   "metadata": {},
   "outputs": [
    {
     "data": {
      "text/plain": [
       "True"
      ]
     },
     "execution_count": 72,
     "metadata": {},
     "output_type": "execute_result"
    }
   ],
   "source": [
    "85 in countries_pop.values()"
   ]
  },
  {
   "cell_type": "code",
   "execution_count": 73,
   "id": "f5b7cd1b",
   "metadata": {},
   "outputs": [
    {
     "ename": "TypeError",
     "evalue": "unsupported operand type(s) for +: 'dict' and 'dict'",
     "output_type": "error",
     "traceback": [
      "\u001b[0;31m---------------------------------------------------------------------------\u001b[0m",
      "\u001b[0;31mTypeError\u001b[0m                                 Traceback (most recent call last)",
      "Cell \u001b[0;32mIn[73], line 1\u001b[0m\n\u001b[0;32m----> 1\u001b[0m \u001b[43mcountries_pop\u001b[49m\u001b[43m \u001b[49m\u001b[38;5;241;43m+\u001b[39;49m\u001b[43m \u001b[49m\u001b[43m{\u001b[49m\u001b[38;5;124;43m'\u001b[39;49m\u001b[38;5;124;43mgermany\u001b[39;49m\u001b[38;5;124;43m'\u001b[39;49m\u001b[43m \u001b[49m\u001b[43m:\u001b[49m\u001b[43m \u001b[49m\u001b[38;5;241;43m80\u001b[39;49m\u001b[43m}\u001b[49m\n",
      "\u001b[0;31mTypeError\u001b[0m: unsupported operand type(s) for +: 'dict' and 'dict'"
     ]
    }
   ],
   "source": [
    "countries_pop + {'germany' : 80}"
   ]
  },
  {
   "cell_type": "code",
   "execution_count": 75,
   "id": "a1dca80e",
   "metadata": {},
   "outputs": [],
   "source": [
    "# inplace\n",
    "countries_pop.update({'Germany' : 80})"
   ]
  },
  {
   "cell_type": "code",
   "execution_count": 76,
   "id": "68d1349b",
   "metadata": {},
   "outputs": [
    {
     "data": {
      "text/plain": [
       "{'Iran': 85, 'Canada': 30, 'USA': 300, 'Germany': 80}"
      ]
     },
     "execution_count": 76,
     "metadata": {},
     "output_type": "execute_result"
    }
   ],
   "source": [
    "countries_pop"
   ]
  },
  {
   "cell_type": "code",
   "execution_count": 77,
   "id": "0f522a81",
   "metadata": {},
   "outputs": [
    {
     "ename": "TypeError",
     "evalue": "unsupported operand type(s) for *: 'dict' and 'int'",
     "output_type": "error",
     "traceback": [
      "\u001b[0;31m---------------------------------------------------------------------------\u001b[0m",
      "\u001b[0;31mTypeError\u001b[0m                                 Traceback (most recent call last)",
      "Cell \u001b[0;32mIn[77], line 1\u001b[0m\n\u001b[0;32m----> 1\u001b[0m \u001b[43mcountries_pop\u001b[49m\u001b[43m \u001b[49m\u001b[38;5;241;43m*\u001b[39;49m\u001b[43m \u001b[49m\u001b[38;5;241;43m3\u001b[39;49m\n",
      "\u001b[0;31mTypeError\u001b[0m: unsupported operand type(s) for *: 'dict' and 'int'"
     ]
    }
   ],
   "source": [
    "countries_pop * 3"
   ]
  },
  {
   "cell_type": "code",
   "execution_count": 78,
   "id": "f11e4606",
   "metadata": {},
   "outputs": [
    {
     "data": {
      "text/plain": [
       "dict_keys(['Iran', 'Canada', 'USA', 'Germany'])"
      ]
     },
     "execution_count": 78,
     "metadata": {},
     "output_type": "execute_result"
    }
   ],
   "source": [
    "countries_pop.keys()"
   ]
  },
  {
   "cell_type": "code",
   "execution_count": 80,
   "id": "dc9a8639",
   "metadata": {},
   "outputs": [
    {
     "data": {
      "text/plain": [
       "dict_values([85, 30, 300, 80])"
      ]
     },
     "execution_count": 80,
     "metadata": {},
     "output_type": "execute_result"
    }
   ],
   "source": [
    "countries_pop.values()"
   ]
  },
  {
   "cell_type": "code",
   "execution_count": 82,
   "id": "df7b1247",
   "metadata": {},
   "outputs": [
    {
     "data": {
      "text/plain": [
       "dict_items([('Iran', 85), ('Canada', 30), ('USA', 300), ('Germany', 80)])"
      ]
     },
     "execution_count": 82,
     "metadata": {},
     "output_type": "execute_result"
    }
   ],
   "source": [
    "countries_pop.items()"
   ]
  },
  {
   "cell_type": "code",
   "execution_count": 83,
   "id": "02ce8a60",
   "metadata": {},
   "outputs": [
    {
     "data": {
      "text/plain": [
       "[('Iran', 85), ('Canada', 30), ('USA', 300), ('Germany', 80)]"
      ]
     },
     "execution_count": 83,
     "metadata": {},
     "output_type": "execute_result"
    }
   ],
   "source": [
    "list(countries_pop.items())"
   ]
  },
  {
   "cell_type": "code",
   "execution_count": 85,
   "id": "61cb17fa",
   "metadata": {},
   "outputs": [
    {
     "data": {
      "text/plain": [
       "'unavilable'"
      ]
     },
     "execution_count": 85,
     "metadata": {},
     "output_type": "execute_result"
    }
   ],
   "source": [
    "countries_pop.get('Iraq', 'unavilable')"
   ]
  },
  {
   "cell_type": "code",
   "execution_count": 86,
   "id": "0e6d6b65",
   "metadata": {},
   "outputs": [
    {
     "data": {
      "text/plain": [
       "{'Iran': 85, 'Canada': 30, 'USA': 300, 'Germany': 80}"
      ]
     },
     "execution_count": 86,
     "metadata": {},
     "output_type": "execute_result"
    }
   ],
   "source": [
    "countries_pop"
   ]
  },
  {
   "cell_type": "code",
   "execution_count": 87,
   "id": "015aedc6",
   "metadata": {},
   "outputs": [],
   "source": [
    "countries_pop.update({'Iran': 90})"
   ]
  },
  {
   "cell_type": "code",
   "execution_count": 88,
   "id": "5251dc04",
   "metadata": {},
   "outputs": [
    {
     "data": {
      "text/plain": [
       "{'Iran': 90, 'Canada': 30, 'USA': 300, 'Germany': 80}"
      ]
     },
     "execution_count": 88,
     "metadata": {},
     "output_type": "execute_result"
    }
   ],
   "source": [
    "countries_pop"
   ]
  },
  {
   "cell_type": "code",
   "execution_count": 100,
   "id": "917a3a90",
   "metadata": {},
   "outputs": [
    {
     "data": {
      "text/plain": [
       "150"
      ]
     },
     "execution_count": 100,
     "metadata": {},
     "output_type": "execute_result"
    }
   ],
   "source": [
    "countries_pop.setdefault('China', 150)"
   ]
  },
  {
   "cell_type": "code",
   "execution_count": 101,
   "id": "4be48b11",
   "metadata": {},
   "outputs": [
    {
     "data": {
      "text/plain": [
       "{'Iran': 90,\n",
       " 'Canada': 30,\n",
       " 'USA': 300,\n",
       " 'Germany': 80,\n",
       " 'china': 150,\n",
       " 'China': 150}"
      ]
     },
     "execution_count": 101,
     "metadata": {},
     "output_type": "execute_result"
    }
   ],
   "source": [
    "countries_pop"
   ]
  },
  {
   "cell_type": "code",
   "execution_count": 102,
   "id": "0e789dbe",
   "metadata": {},
   "outputs": [
    {
     "data": {
      "text/plain": [
       "90"
      ]
     },
     "execution_count": 102,
     "metadata": {},
     "output_type": "execute_result"
    }
   ],
   "source": [
    "# setdefault will only add items to dict when key is not available\n",
    "countries_pop.setdefault('Iran', 150)"
   ]
  },
  {
   "cell_type": "code",
   "execution_count": 103,
   "id": "3cd9be35",
   "metadata": {},
   "outputs": [
    {
     "data": {
      "text/plain": [
       "{'Iran': 90,\n",
       " 'Canada': 30,\n",
       " 'USA': 300,\n",
       " 'Germany': 80,\n",
       " 'china': 150,\n",
       " 'China': 150}"
      ]
     },
     "execution_count": 103,
     "metadata": {},
     "output_type": "execute_result"
    }
   ],
   "source": [
    "countries_pop"
   ]
  },
  {
   "cell_type": "code",
   "execution_count": 105,
   "id": "6001e047",
   "metadata": {},
   "outputs": [
    {
     "data": {
      "text/plain": [
       "['Canada', 'China', 'Germany', 'Iran', 'USA', 'china']"
      ]
     },
     "execution_count": 105,
     "metadata": {},
     "output_type": "execute_result"
    }
   ],
   "source": [
    "sorted(countries_pop)"
   ]
  },
  {
   "cell_type": "code",
   "execution_count": 106,
   "id": "edbb2de4",
   "metadata": {},
   "outputs": [
    {
     "data": {
      "text/plain": [
       "[30, 80, 90, 150, 150, 300]"
      ]
     },
     "execution_count": 106,
     "metadata": {},
     "output_type": "execute_result"
    }
   ],
   "source": [
    "sorted(countries_pop.values())"
   ]
  },
  {
   "cell_type": "code",
   "execution_count": 107,
   "id": "3348652b",
   "metadata": {},
   "outputs": [],
   "source": [
    "family_ages = {\n",
    "  'parent1': {'name': 'John', 'age': 42},\n",
    "  'parent2': {'name': 'Jane', 'age': 40},\n",
    "  'chile': {'name': 'Doe', 'age': 12}\n",
    "}"
   ]
  },
  {
   "cell_type": "code",
   "execution_count": 108,
   "id": "998f32be",
   "metadata": {},
   "outputs": [
    {
     "data": {
      "text/plain": [
       "42"
      ]
     },
     "execution_count": 108,
     "metadata": {},
     "output_type": "execute_result"
    }
   ],
   "source": [
    "family_ages['parent1']['age']"
   ]
  },
  {
   "cell_type": "code",
   "execution_count": 109,
   "id": "d4e67062",
   "metadata": {},
   "outputs": [],
   "source": [
    "family_ages['parent1']['age'] = 43"
   ]
  },
  {
   "cell_type": "code",
   "execution_count": 110,
   "id": "29e7e7ea",
   "metadata": {},
   "outputs": [
    {
     "data": {
      "text/plain": [
       "{'parent1': {'name': 'John', 'age': 43},\n",
       " 'parent2': {'name': 'Jane', 'age': 40},\n",
       " 'chile': {'name': 'Doe', 'age': 12}}"
      ]
     },
     "execution_count": 110,
     "metadata": {},
     "output_type": "execute_result"
    }
   ],
   "source": [
    "family_ages"
   ]
  }
 ],
 "metadata": {
  "kernelspec": {
   "display_name": "work",
   "language": "python",
   "name": "python3"
  },
  "language_info": {
   "codemirror_mode": {
    "name": "ipython",
    "version": 3
   },
   "file_extension": ".py",
   "mimetype": "text/x-python",
   "name": "python",
   "nbconvert_exporter": "python",
   "pygments_lexer": "ipython3",
   "version": "3.9.21"
  }
 },
 "nbformat": 4,
 "nbformat_minor": 5
}
