{
 "cells": [
  {
   "cell_type": "code",
   "execution_count": 18,
   "id": "14598338",
   "metadata": {},
   "outputs": [],
   "source": [
    "names = [\n",
    "  'Sepideh',\n",
    "  'Sepehr',\n",
    "  'Sogand'\n",
    "]"
   ]
  },
  {
   "cell_type": "code",
   "execution_count": 5,
   "id": "a555797f",
   "metadata": {},
   "outputs": [
    {
     "name": "stdout",
     "output_type": "stream",
     "text": [
      "Sepideh Dead\n",
      "Sepehr Dead\n",
      "Sogand Dead\n"
     ]
    }
   ],
   "source": [
    "for names in names:\n",
    "  print(names + ' Dead')"
   ]
  },
  {
   "cell_type": "code",
   "execution_count": 6,
   "id": "08e71790",
   "metadata": {},
   "outputs": [
    {
     "name": "stdout",
     "output_type": "stream",
     "text": [
      "100\n",
      "200\n",
      "300\n",
      "400\n"
     ]
    }
   ],
   "source": [
    "s = {1, 2, 3, 4}\n",
    "for items in s:\n",
    "  print(items * 100)"
   ]
  },
  {
   "cell_type": "code",
   "execution_count": 7,
   "id": "17ab96be",
   "metadata": {},
   "outputs": [],
   "source": [
    "person = {\n",
    "  'name': 'sepideh',\n",
    "  'age': 24,\n",
    "  'gender': 'female'\n",
    "}"
   ]
  },
  {
   "cell_type": "code",
   "execution_count": 9,
   "metadata": {},
   "outputs": [
    {
     "name": "stdout",
     "output_type": "stream",
     "text": [
      "name\n",
      "age\n",
      "gender\n"
     ]
    }
   ],
   "source": [
    "for x in person:\n",
    "  print(x)"
   ]
  },
  {
   "cell_type": "code",
   "execution_count": 11,
   "id": "527cf296",
   "metadata": {},
   "outputs": [
    {
     "name": "stdout",
     "output_type": "stream",
     "text": [
      "sepideh\n",
      "24\n",
      "female\n"
     ]
    }
   ],
   "source": [
    "for x in person.values():\n",
    "  print(x)"
   ]
  },
  {
   "cell_type": "code",
   "execution_count": 15,
   "id": "59085699",
   "metadata": {},
   "outputs": [
    {
     "name": "stdout",
     "output_type": "stream",
     "text": [
      "name sepideh\n",
      "age 24\n",
      "gender female\n"
     ]
    }
   ],
   "source": [
    "for x, y in person.items():\n",
    "  print(x, y)"
   ]
  },
  {
   "cell_type": "code",
   "execution_count": 19,
   "id": "8b6116e0",
   "metadata": {},
   "outputs": [
    {
     "name": "stdout",
     "output_type": "stream",
     "text": [
      "Sogand\n",
      "Sepideh\n",
      "Sepehr\n"
     ]
    }
   ],
   "source": [
    "for names in sorted(names, reverse=True):\n",
    "  print(names)"
   ]
  },
  {
   "cell_type": "code",
   "execution_count": 20,
   "id": "1afe845a",
   "metadata": {},
   "outputs": [],
   "source": [
    "matrix = [\n",
    "  [1, 2, 3],\n",
    "  [4, 5, 6],\n",
    "  [7, 8, 9]\n",
    "]"
   ]
  },
  {
   "cell_type": "code",
   "execution_count": 21,
   "id": "27cd3a7a",
   "metadata": {},
   "outputs": [
    {
     "name": "stdout",
     "output_type": "stream",
     "text": [
      "[1, 2, 3]\n",
      "[4, 5, 6]\n",
      "[7, 8, 9]\n"
     ]
    }
   ],
   "source": [
    "for row in matrix:\n",
    "  print(row)"
   ]
  },
  {
   "cell_type": "code",
   "execution_count": 24,
   "id": "7ee761d3",
   "metadata": {},
   "outputs": [
    {
     "name": "stdout",
     "output_type": "stream",
     "text": [
      "1\n",
      "2\n",
      "3\n",
      "4\n",
      "5\n",
      "6\n",
      "7\n",
      "8\n",
      "9\n"
     ]
    }
   ],
   "source": [
    "for row in matrix:\n",
    "  for column in row:\n",
    "    print(column) "
   ]
  },
  {
   "cell_type": "code",
   "execution_count": 26,
   "id": "d0ac628c",
   "metadata": {},
   "outputs": [
    {
     "name": "stdout",
     "output_type": "stream",
     "text": [
      "2\n",
      "4\n",
      "6\n",
      "8\n"
     ]
    }
   ],
   "source": [
    "for row in matrix:\n",
    "  for column in row:\n",
    "    if column % 2 == 0:\n",
    "      print(column) "
   ]
  }
 ],
 "metadata": {
  "kernelspec": {
   "display_name": "work",
   "language": "python",
   "name": "python3"
  },
  "language_info": {
   "codemirror_mode": {
    "name": "ipython",
    "version": 3
   },
   "file_extension": ".py",
   "mimetype": "text/x-python",
   "name": "python",
   "nbconvert_exporter": "python",
   "pygments_lexer": "ipython3",
   "version": "3.9.21"
  }
 },
 "nbformat": 4,
 "nbformat_minor": 5
}
