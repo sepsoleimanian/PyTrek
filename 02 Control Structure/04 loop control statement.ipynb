{
 "cells": [
  {
   "cell_type": "code",
   "execution_count": 1,
   "id": "ad0d348b",
   "metadata": {},
   "outputs": [],
   "source": [
    "names = [\n",
    "  'sepideh',\n",
    "  'hana',\n",
    "  'sogand',\n",
    "  'niloofar',\n",
    "  'hasti'\n",
    "]"
   ]
  },
  {
   "cell_type": "code",
   "execution_count": 2,
   "id": "dfb7c960",
   "metadata": {},
   "outputs": [
    {
     "name": "stdout",
     "output_type": "stream",
     "text": [
      "sepideh\n",
      "hana\n",
      "sogand\n",
      "niloofar\n",
      "hasti\n"
     ]
    }
   ],
   "source": [
    "for name in names:\n",
    "  print(name)"
   ]
  },
  {
   "cell_type": "code",
   "execution_count": 3,
   "id": "b4cbce9d",
   "metadata": {},
   "outputs": [
    {
     "name": "stdout",
     "output_type": "stream",
     "text": [
      "sepideh\n",
      "hana\n",
      "sogand\n"
     ]
    }
   ],
   "source": [
    "for name in names:\n",
    "  if 'r' in name:\n",
    "    break\n",
    "  print(name)"
   ]
  },
  {
   "cell_type": "code",
   "execution_count": 6,
   "id": "de039f3c",
   "metadata": {},
   "outputs": [
    {
     "name": "stdout",
     "output_type": "stream",
     "text": [
      "sepideh\n",
      "hana\n",
      "sogand\n",
      "hasti\n"
     ]
    }
   ],
   "source": [
    "for name in names:\n",
    "  if 'r' in name:\n",
    "    continue\n",
    "  print(name)"
   ]
  },
  {
   "cell_type": "code",
   "execution_count": 9,
   "id": "fa67da4d",
   "metadata": {},
   "outputs": [
    {
     "name": "stdout",
     "output_type": "stream",
     "text": [
      "Hi\n"
     ]
    }
   ],
   "source": [
    "count = 3\n",
    "\n",
    "if count == 0:\n",
    "  pass\n",
    "print('Hi')"
   ]
  }
 ],
 "metadata": {
  "kernelspec": {
   "display_name": "work",
   "language": "python",
   "name": "python3"
  },
  "language_info": {
   "codemirror_mode": {
    "name": "ipython",
    "version": 3
   },
   "file_extension": ".py",
   "mimetype": "text/x-python",
   "name": "python",
   "nbconvert_exporter": "python",
   "pygments_lexer": "ipython3",
   "version": "3.9.21"
  }
 },
 "nbformat": 4,
 "nbformat_minor": 5
}
