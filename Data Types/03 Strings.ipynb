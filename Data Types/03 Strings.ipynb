{
 "cells": [
  {
   "cell_type": "code",
   "execution_count": 3,
   "id": "5e93c9f8",
   "metadata": {},
   "outputs": [
    {
     "data": {
      "text/plain": [
       "'sepideh soleimanian'"
      ]
     },
     "execution_count": 3,
     "metadata": {},
     "output_type": "execute_result"
    }
   ],
   "source": [
    "name = 'sepideh soleimanian'\n",
    "name"
   ]
  },
  {
   "cell_type": "code",
   "execution_count": 4,
   "metadata": {},
   "outputs": [
    {
     "name": "stdout",
     "output_type": "stream",
     "text": [
      "sepideh soleimanian\n"
     ]
    }
   ],
   "source": [
    "print(name)"
   ]
  },
  {
   "cell_type": "code",
   "execution_count": 5,
   "metadata": {},
   "outputs": [
    {
     "data": {
      "text/plain": [
       "'sepideh soleimanian'"
      ]
     },
     "execution_count": 5,
     "metadata": {},
     "output_type": "execute_result"
    }
   ],
   "source": [
    "first_name = 'sepideh'\n",
    "last_name = 'soleimanian'\n",
    "full_name = first_name + \" \" + last_name\n",
    "full_name"
   ]
  },
  {
   "cell_type": "code",
   "execution_count": 6,
   "metadata": {},
   "outputs": [
    {
     "data": {
      "text/plain": [
       "'hahaha'"
      ]
     },
     "execution_count": 6,
     "metadata": {},
     "output_type": "execute_result"
    }
   ],
   "source": [
    "repeat_str = 'ha'\n",
    "laugh = repeat_str * 3\n",
    "laugh"
   ]
  },
  {
   "cell_type": "code",
   "execution_count": 7,
   "id": "a2330f76",
   "metadata": {},
   "outputs": [],
   "source": [
    "name = 'sepideh'"
   ]
  },
  {
   "cell_type": "code",
   "execution_count": 8,
   "metadata": {},
   "outputs": [
    {
     "data": {
      "text/plain": [
       "True"
      ]
     },
     "execution_count": 8,
     "metadata": {},
     "output_type": "execute_result"
    }
   ],
   "source": [
    "'sep' in name"
   ]
  },
  {
   "cell_type": "code",
   "execution_count": 9,
   "id": "ecb1fef5",
   "metadata": {},
   "outputs": [
    {
     "data": {
      "text/plain": [
       "False"
      ]
     },
     "execution_count": 9,
     "metadata": {},
     "output_type": "execute_result"
    }
   ],
   "source": [
    "'SEP' in name"
   ]
  },
  {
   "cell_type": "code",
   "execution_count": 10,
   "id": "527e6067",
   "metadata": {},
   "outputs": [
    {
     "data": {
      "text/plain": [
       "False"
      ]
     },
     "execution_count": 10,
     "metadata": {},
     "output_type": "execute_result"
    }
   ],
   "source": [
    "'sep' not in name"
   ]
  },
  {
   "cell_type": "code",
   "execution_count": 11,
   "id": "7f71c50f",
   "metadata": {},
   "outputs": [
    {
     "data": {
      "text/plain": [
       "7"
      ]
     },
     "execution_count": 11,
     "metadata": {},
     "output_type": "execute_result"
    }
   ],
   "source": [
    "len(name)"
   ]
  },
  {
   "cell_type": "code",
   "execution_count": 12,
   "id": "88a9f773",
   "metadata": {},
   "outputs": [
    {
     "data": {
      "text/plain": [
       "'s'"
      ]
     },
     "execution_count": 12,
     "metadata": {},
     "output_type": "execute_result"
    }
   ],
   "source": [
    "name[0]"
   ]
  },
  {
   "cell_type": "code",
   "execution_count": 13,
   "id": "74052697",
   "metadata": {},
   "outputs": [
    {
     "data": {
      "text/plain": [
       "'d'"
      ]
     },
     "execution_count": 13,
     "metadata": {},
     "output_type": "execute_result"
    }
   ],
   "source": [
    "name[4]"
   ]
  },
  {
   "cell_type": "code",
   "execution_count": 14,
   "id": "96d2afda",
   "metadata": {},
   "outputs": [
    {
     "data": {
      "text/plain": [
       "'h'"
      ]
     },
     "execution_count": 14,
     "metadata": {},
     "output_type": "execute_result"
    }
   ],
   "source": [
    "name[-1]"
   ]
  },
  {
   "cell_type": "code",
   "execution_count": 15,
   "id": "a46d73f6",
   "metadata": {},
   "outputs": [
    {
     "data": {
      "text/plain": [
       "'p'"
      ]
     },
     "execution_count": 15,
     "metadata": {},
     "output_type": "execute_result"
    }
   ],
   "source": [
    "name[-5]"
   ]
  },
  {
   "cell_type": "code",
   "execution_count": 16,
   "id": "49bff7b5",
   "metadata": {},
   "outputs": [
    {
     "ename": "IndexError",
     "evalue": "string index out of range",
     "output_type": "error",
     "traceback": [
      "\u001b[0;31m---------------------------------------------------------------------------\u001b[0m",
      "\u001b[0;31mIndexError\u001b[0m                                Traceback (most recent call last)",
      "Cell \u001b[0;32mIn[16], line 1\u001b[0m\n\u001b[0;32m----> 1\u001b[0m \u001b[43mname\u001b[49m\u001b[43m[\u001b[49m\u001b[38;5;241;43m7\u001b[39;49m\u001b[43m]\u001b[49m\n",
      "\u001b[0;31mIndexError\u001b[0m: string index out of range"
     ]
    }
   ],
   "source": [
    "name[7]"
   ]
  },
  {
   "cell_type": "code",
   "execution_count": 17,
   "id": "fb1a8ec8",
   "metadata": {},
   "outputs": [
    {
     "data": {
      "text/plain": [
       "'h'"
      ]
     },
     "execution_count": 17,
     "metadata": {},
     "output_type": "execute_result"
    }
   ],
   "source": [
    "# last char\n",
    "name[len(name) - 1]"
   ]
  },
  {
   "cell_type": "code",
   "execution_count": 18,
   "id": "99eb54b9",
   "metadata": {},
   "outputs": [
    {
     "data": {
      "text/plain": [
       "'h'"
      ]
     },
     "execution_count": 18,
     "metadata": {},
     "output_type": "execute_result"
    }
   ],
   "source": [
    "name[-1]"
   ]
  },
  {
   "cell_type": "code",
   "execution_count": 19,
   "id": "7ad8c6d0",
   "metadata": {},
   "outputs": [
    {
     "data": {
      "text/plain": [
       "'s'"
      ]
     },
     "execution_count": 19,
     "metadata": {},
     "output_type": "execute_result"
    }
   ],
   "source": [
    "name[-1*len(name)]"
   ]
  },
  {
   "cell_type": "code",
   "execution_count": 22,
   "id": "c7319f27",
   "metadata": {},
   "outputs": [
    {
     "data": {
      "text/plain": [
       "'sepide'"
      ]
     },
     "execution_count": 22,
     "metadata": {},
     "output_type": "execute_result"
    }
   ],
   "source": [
    "# [inclusive. exclusive]\n",
    "name[0:6]"
   ]
  },
  {
   "cell_type": "code",
   "execution_count": 24,
   "id": "b0e344b9",
   "metadata": {},
   "outputs": [
    {
     "data": {
      "text/plain": [
       "'spd'"
      ]
     },
     "execution_count": 24,
     "metadata": {},
     "output_type": "execute_result"
    }
   ],
   "source": [
    "# [start, end, step]\n",
    "name[0:5:2]"
   ]
  },
  {
   "cell_type": "code",
   "execution_count": 25,
   "id": "ba17e1a5",
   "metadata": {},
   "outputs": [
    {
     "data": {
      "text/plain": [
       "'sepideh'"
      ]
     },
     "execution_count": 25,
     "metadata": {},
     "output_type": "execute_result"
    }
   ],
   "source": [
    "name[:]"
   ]
  },
  {
   "cell_type": "code",
   "execution_count": 26,
   "id": "4c8b0940",
   "metadata": {},
   "outputs": [
    {
     "data": {
      "text/plain": [
       "'epideh'"
      ]
     },
     "execution_count": 26,
     "metadata": {},
     "output_type": "execute_result"
    }
   ],
   "source": [
    "name[1:]"
   ]
  },
  {
   "cell_type": "code",
   "execution_count": 27,
   "id": "c0b5ef73",
   "metadata": {},
   "outputs": [
    {
     "data": {
      "text/plain": [
       "'pideh'"
      ]
     },
     "execution_count": 27,
     "metadata": {},
     "output_type": "execute_result"
    }
   ],
   "source": [
    "name[2:]"
   ]
  },
  {
   "cell_type": "code",
   "execution_count": 28,
   "id": "68dcdbaf",
   "metadata": {},
   "outputs": [
    {
     "data": {
      "text/plain": [
       "'hedipes'"
      ]
     },
     "execution_count": 28,
     "metadata": {},
     "output_type": "execute_result"
    }
   ],
   "source": [
    "name[::-1]"
   ]
  },
  {
   "cell_type": "code",
   "execution_count": 10,
   "id": "6ea8d782",
   "metadata": {},
   "outputs": [],
   "source": [
    "text = 'SePiDeH SoLeImAnIaN'"
   ]
  },
  {
   "cell_type": "code",
   "execution_count": 11,
   "id": "2678a0ef",
   "metadata": {},
   "outputs": [
    {
     "data": {
      "text/plain": [
       "'SEPIDEH SOLEIMANIAN'"
      ]
     },
     "execution_count": 11,
     "metadata": {},
     "output_type": "execute_result"
    }
   ],
   "source": [
    "text.upper()"
   ]
  },
  {
   "cell_type": "code",
   "execution_count": 12,
   "id": "e38d1b54",
   "metadata": {},
   "outputs": [
    {
     "data": {
      "text/plain": [
       "'sepideh soleimanian'"
      ]
     },
     "execution_count": 12,
     "metadata": {},
     "output_type": "execute_result"
    }
   ],
   "source": [
    "text.lower()"
   ]
  },
  {
   "cell_type": "code",
   "execution_count": 13,
   "id": "604c0ca4",
   "metadata": {},
   "outputs": [
    {
     "data": {
      "text/plain": [
       "'Sepideh soleimanian'"
      ]
     },
     "execution_count": 13,
     "metadata": {},
     "output_type": "execute_result"
    }
   ],
   "source": [
    "text.capitalize()"
   ]
  },
  {
   "cell_type": "code",
   "execution_count": 14,
   "id": "3a65932e",
   "metadata": {},
   "outputs": [
    {
     "data": {
      "text/plain": [
       "'Sepideh Soleimanian'"
      ]
     },
     "execution_count": 14,
     "metadata": {},
     "output_type": "execute_result"
    }
   ],
   "source": [
    "text.title()"
   ]
  },
  {
   "cell_type": "code",
   "execution_count": 16,
   "id": "41dd9887",
   "metadata": {},
   "outputs": [
    {
     "data": {
      "text/plain": [
       "False"
      ]
     },
     "execution_count": 16,
     "metadata": {},
     "output_type": "execute_result"
    }
   ],
   "source": [
    "# are all chars alphabet?\n",
    "text.isalpha()"
   ]
  },
  {
   "cell_type": "code",
   "execution_count": 18,
   "id": "ef826368",
   "metadata": {},
   "outputs": [
    {
     "data": {
      "text/plain": [
       "False"
      ]
     },
     "execution_count": 18,
     "metadata": {},
     "output_type": "execute_result"
    }
   ],
   "source": [
    "# are all char digit?\n",
    "text.isdigit()"
   ]
  },
  {
   "cell_type": "code",
   "execution_count": 21,
   "id": "d5ebb1ff",
   "metadata": {},
   "outputs": [
    {
     "data": {
      "text/plain": [
       "0"
      ]
     },
     "execution_count": 21,
     "metadata": {},
     "output_type": "execute_result"
    }
   ],
   "source": [
    "text = 'sepideh'\n",
    "text.find('sepideh')"
   ]
  },
  {
   "cell_type": "code",
   "execution_count": 22,
   "id": "71b7371a",
   "metadata": {},
   "outputs": [
    {
     "data": {
      "text/plain": [
       "1"
      ]
     },
     "execution_count": 22,
     "metadata": {},
     "output_type": "execute_result"
    }
   ],
   "source": [
    "text.find('e')"
   ]
  },
  {
   "cell_type": "code",
   "execution_count": 23,
   "id": "a6bd4a8e",
   "metadata": {},
   "outputs": [
    {
     "data": {
      "text/plain": [
       "2"
      ]
     },
     "execution_count": 23,
     "metadata": {},
     "output_type": "execute_result"
    }
   ],
   "source": [
    "text.find('pid')"
   ]
  },
  {
   "cell_type": "code",
   "execution_count": 24,
   "id": "608832d1",
   "metadata": {},
   "outputs": [
    {
     "data": {
      "text/plain": [
       "'pesideh'"
      ]
     },
     "execution_count": 24,
     "metadata": {},
     "output_type": "execute_result"
    }
   ],
   "source": [
    "text.replace(\"sep\", 'pes')"
   ]
  },
  {
   "cell_type": "code",
   "execution_count": 25,
   "id": "31720a98",
   "metadata": {},
   "outputs": [
    {
     "data": {
      "text/plain": [
       "'sepideh'"
      ]
     },
     "execution_count": 25,
     "metadata": {},
     "output_type": "execute_result"
    }
   ],
   "source": [
    "text.replace(\"ameli\", 'ali')"
   ]
  },
  {
   "cell_type": "code",
   "execution_count": 27,
   "id": "f9a82697",
   "metadata": {},
   "outputs": [
    {
     "data": {
      "text/plain": [
       "'sepideh'"
      ]
     },
     "execution_count": 27,
     "metadata": {},
     "output_type": "execute_result"
    }
   ],
   "source": [
    "text = '    sepideh    '\n",
    "\n",
    "# remove spaces of begininng and end\n",
    "text.strip()"
   ]
  },
  {
   "cell_type": "code",
   "execution_count": 29,
   "id": "8481c8bd",
   "metadata": {},
   "outputs": [
    {
     "data": {
      "text/plain": [
       "['sepideh', 'soleimanian']"
      ]
     },
     "execution_count": 29,
     "metadata": {},
     "output_type": "execute_result"
    }
   ],
   "source": [
    "text = 'sepideh soleimanian'\n",
    "text.split()"
   ]
  },
  {
   "cell_type": "code",
   "execution_count": 30,
   "id": "6eb8095d",
   "metadata": {},
   "outputs": [
    {
     "data": {
      "text/plain": [
       "['s', 'pid', 'h sol', 'imanian']"
      ]
     },
     "execution_count": 30,
     "metadata": {},
     "output_type": "execute_result"
    }
   ],
   "source": [
    "text.split('e')"
   ]
  },
  {
   "cell_type": "code",
   "execution_count": 32,
   "id": "c8af8d92",
   "metadata": {},
   "outputs": [
    {
     "data": {
      "text/plain": [
       "['se', 'deh soleimanian']"
      ]
     },
     "execution_count": 32,
     "metadata": {},
     "output_type": "execute_result"
    }
   ],
   "source": [
    "text.split('pi')"
   ]
  },
  {
   "cell_type": "code",
   "execution_count": 33,
   "id": "1dd1c42f",
   "metadata": {},
   "outputs": [
    {
     "data": {
      "text/plain": [
       "['', 'epideh ', 'oleimanian']"
      ]
     },
     "execution_count": 33,
     "metadata": {},
     "output_type": "execute_result"
    }
   ],
   "source": [
    "text.split('s')"
   ]
  },
  {
   "cell_type": "code",
   "execution_count": 34,
   "id": "8f304aa4",
   "metadata": {},
   "outputs": [
    {
     "data": {
      "text/plain": [
       "['__add__',\n",
       " '__class__',\n",
       " '__contains__',\n",
       " '__delattr__',\n",
       " '__dir__',\n",
       " '__doc__',\n",
       " '__eq__',\n",
       " '__format__',\n",
       " '__ge__',\n",
       " '__getattribute__',\n",
       " '__getitem__',\n",
       " '__getnewargs__',\n",
       " '__gt__',\n",
       " '__hash__',\n",
       " '__init__',\n",
       " '__init_subclass__',\n",
       " '__iter__',\n",
       " '__le__',\n",
       " '__len__',\n",
       " '__lt__',\n",
       " '__mod__',\n",
       " '__mul__',\n",
       " '__ne__',\n",
       " '__new__',\n",
       " '__reduce__',\n",
       " '__reduce_ex__',\n",
       " '__repr__',\n",
       " '__rmod__',\n",
       " '__rmul__',\n",
       " '__setattr__',\n",
       " '__sizeof__',\n",
       " '__str__',\n",
       " '__subclasshook__',\n",
       " 'capitalize',\n",
       " 'casefold',\n",
       " 'center',\n",
       " 'count',\n",
       " 'encode',\n",
       " 'endswith',\n",
       " 'expandtabs',\n",
       " 'find',\n",
       " 'format',\n",
       " 'format_map',\n",
       " 'index',\n",
       " 'isalnum',\n",
       " 'isalpha',\n",
       " 'isascii',\n",
       " 'isdecimal',\n",
       " 'isdigit',\n",
       " 'isidentifier',\n",
       " 'islower',\n",
       " 'isnumeric',\n",
       " 'isprintable',\n",
       " 'isspace',\n",
       " 'istitle',\n",
       " 'isupper',\n",
       " 'join',\n",
       " 'ljust',\n",
       " 'lower',\n",
       " 'lstrip',\n",
       " 'maketrans',\n",
       " 'partition',\n",
       " 'removeprefix',\n",
       " 'removesuffix',\n",
       " 'replace',\n",
       " 'rfind',\n",
       " 'rindex',\n",
       " 'rjust',\n",
       " 'rpartition',\n",
       " 'rsplit',\n",
       " 'rstrip',\n",
       " 'split',\n",
       " 'splitlines',\n",
       " 'startswith',\n",
       " 'strip',\n",
       " 'swapcase',\n",
       " 'title',\n",
       " 'translate',\n",
       " 'upper',\n",
       " 'zfill']"
      ]
     },
     "execution_count": 34,
     "metadata": {},
     "output_type": "execute_result"
    }
   ],
   "source": [
    "dir(text)"
   ]
  },
  {
   "cell_type": "code",
   "execution_count": 35,
   "id": "7a9755cb",
   "metadata": {},
   "outputs": [
    {
     "ename": "TypeError",
     "evalue": "'str' object does not support item assignment",
     "output_type": "error",
     "traceback": [
      "\u001b[0;31m---------------------------------------------------------------------------\u001b[0m",
      "\u001b[0;31mTypeError\u001b[0m                                 Traceback (most recent call last)",
      "Cell \u001b[0;32mIn[35], line 3\u001b[0m\n\u001b[1;32m      1\u001b[0m \u001b[38;5;66;03m# strings are immutable\u001b[39;00m\n\u001b[1;32m      2\u001b[0m text \u001b[38;5;241m=\u001b[39m \u001b[38;5;124m'\u001b[39m\u001b[38;5;124msepideh\u001b[39m\u001b[38;5;124m'\u001b[39m\n\u001b[0;32m----> 3\u001b[0m text[\u001b[38;5;241m2\u001b[39m] \u001b[38;5;241m=\u001b[39m \u001b[38;5;124m'\u001b[39m\u001b[38;5;124md\u001b[39m\u001b[38;5;124m'\u001b[39m\n",
      "\u001b[0;31mTypeError\u001b[0m: 'str' object does not support item assignment"
     ]
    }
   ],
   "source": [
    "# strings are immutable\n",
    "text = 'sepideh'\n",
    "text[2] = 'd'"
   ]
  },
  {
   "cell_type": "code",
   "execution_count": 41,
   "id": "c19379a2",
   "metadata": {},
   "outputs": [
    {
     "data": {
      "text/plain": [
       "'SEPIDEH'"
      ]
     },
     "execution_count": 41,
     "metadata": {},
     "output_type": "execute_result"
    }
   ],
   "source": [
    "# this creates a copy of text(New obj). so we do not change string\n",
    "text.upper()"
   ]
  },
  {
   "cell_type": "code",
   "execution_count": 39,
   "id": "edd7c799",
   "metadata": {},
   "outputs": [
    {
     "data": {
      "text/plain": [
       "'SEPIDEH'"
      ]
     },
     "execution_count": 39,
     "metadata": {},
     "output_type": "execute_result"
    }
   ],
   "source": [
    "text_upper = text.upper()\n",
    "text_upper"
   ]
  },
  {
   "cell_type": "code",
   "execution_count": 40,
   "id": "efa6a233",
   "metadata": {},
   "outputs": [
    {
     "ename": "TypeError",
     "evalue": "'str' object does not support item assignment",
     "output_type": "error",
     "traceback": [
      "\u001b[0;31m---------------------------------------------------------------------------\u001b[0m",
      "\u001b[0;31mTypeError\u001b[0m                                 Traceback (most recent call last)",
      "Cell \u001b[0;32mIn[40], line 1\u001b[0m\n\u001b[0;32m----> 1\u001b[0m text_upper[\u001b[38;5;241m0\u001b[39m] \u001b[38;5;241m=\u001b[39m \u001b[38;5;124m'\u001b[39m\u001b[38;5;124md\u001b[39m\u001b[38;5;124m'\u001b[39m\n",
      "\u001b[0;31mTypeError\u001b[0m: 'str' object does not support item assignment"
     ]
    }
   ],
   "source": [
    "text_upper[0] = 'd'"
   ]
  },
  {
   "cell_type": "code",
   "execution_count": 42,
   "id": "cdc492c2",
   "metadata": {},
   "outputs": [
    {
     "data": {
      "text/plain": [
       "'depideh'"
      ]
     },
     "execution_count": 42,
     "metadata": {},
     "output_type": "execute_result"
    }
   ],
   "source": [
    "text_edited = 'd' + text[1:]\n",
    "text_edited"
   ]
  },
  {
   "cell_type": "code",
   "execution_count": 46,
   "id": "1e3a4bdc",
   "metadata": {},
   "outputs": [
    {
     "data": {
      "text/plain": [
       "'depideh'"
      ]
     },
     "execution_count": 46,
     "metadata": {},
     "output_type": "execute_result"
    }
   ],
   "source": [
    "# points to a new obj\n",
    "text = 'd' + text[1:]\n",
    "text"
   ]
  },
  {
   "cell_type": "code",
   "execution_count": 47,
   "id": "a37d2ca5",
   "metadata": {},
   "outputs": [],
   "source": [
    "user_input = input()"
   ]
  },
  {
   "cell_type": "code",
   "execution_count": 49,
   "id": "e3f2bf3d",
   "metadata": {},
   "outputs": [
    {
     "data": {
      "text/plain": [
       "'hi'"
      ]
     },
     "execution_count": 49,
     "metadata": {},
     "output_type": "execute_result"
    }
   ],
   "source": [
    "user_input"
   ]
  },
  {
   "cell_type": "code",
   "execution_count": 51,
   "id": "5e30c592",
   "metadata": {},
   "outputs": [
    {
     "data": {
      "text/plain": [
       "'sepideh'"
      ]
     },
     "execution_count": 51,
     "metadata": {},
     "output_type": "execute_result"
    }
   ],
   "source": [
    "name = input('please type your name')\n",
    "name"
   ]
  },
  {
   "cell_type": "code",
   "execution_count": 53,
   "id": "943a2fcb",
   "metadata": {},
   "outputs": [
    {
     "data": {
      "text/plain": [
       "24"
      ]
     },
     "execution_count": 53,
     "metadata": {},
     "output_type": "execute_result"
    }
   ],
   "source": [
    "age = int(input('enter your name'))\n",
    "age"
   ]
  },
  {
   "cell_type": "code",
   "execution_count": 57,
   "id": "93655f6b",
   "metadata": {},
   "outputs": [
    {
     "name": "stdout",
     "output_type": "stream",
     "text": [
      "sepideh is 24 years old\n"
     ]
    }
   ],
   "source": [
    "name: 'sepideh'\n",
    "age: 24\n",
    "print(name, \"is\", age, \"years old\") "
   ]
  },
  {
   "cell_type": "code",
   "execution_count": 58,
   "id": "cef8137d",
   "metadata": {},
   "outputs": [
    {
     "data": {
      "text/plain": [
       "'sepideh is 24 years old'"
      ]
     },
     "execution_count": 58,
     "metadata": {},
     "output_type": "execute_result"
    }
   ],
   "source": [
    "message = name + \" is \" + str(age) + \" years old\"\n",
    "message"
   ]
  },
  {
   "cell_type": "code",
   "execution_count": 59,
   "id": "1507abc0",
   "metadata": {},
   "outputs": [
    {
     "data": {
      "text/plain": [
       "'Hello, Sepideh'"
      ]
     },
     "execution_count": 59,
     "metadata": {},
     "output_type": "execute_result"
    }
   ],
   "source": [
    "# String Formatting\n",
    "greeting = 'Hello, {}'\n",
    "name = 'Sepideh'\n",
    "greeting.format(name)"
   ]
  },
  {
   "cell_type": "code",
   "execution_count": 60,
   "id": "211b83d4",
   "metadata": {},
   "outputs": [
    {
     "data": {
      "text/plain": [
       "'Hello, Sepideh'"
      ]
     },
     "execution_count": 60,
     "metadata": {},
     "output_type": "execute_result"
    }
   ],
   "source": [
    "# do nothing more than before\n",
    "greeting.format(name, name, name)"
   ]
  },
  {
   "cell_type": "code",
   "execution_count": 61,
   "id": "3488aa56",
   "metadata": {},
   "outputs": [
    {
     "data": {
      "text/plain": [
       "'Hello, sepideh. How are you today? bye'"
      ]
     },
     "execution_count": 61,
     "metadata": {},
     "output_type": "execute_result"
    }
   ],
   "source": [
    "test = 'Hello, {}. How are you today? {}'\n",
    "name = 'sepideh'\n",
    "test.format(name, 'bye')"
   ]
  },
  {
   "cell_type": "code",
   "execution_count": 62,
   "id": "6453e9d0",
   "metadata": {},
   "outputs": [
    {
     "data": {
      "text/plain": [
       "'Hello, sepideh. How are you today? bye'"
      ]
     },
     "execution_count": 62,
     "metadata": {},
     "output_type": "execute_result"
    }
   ],
   "source": [
    "test_2 = 'Hello, {name}. How are you today? {end}'\n",
    "test_2.format(name = name, end = 'bye')\n"
   ]
  },
  {
   "cell_type": "code",
   "execution_count": 64,
   "id": "286cd0cf",
   "metadata": {},
   "outputs": [
    {
     "data": {
      "text/plain": [
       "'Hello, sepideh. How are you today? bye'"
      ]
     },
     "execution_count": 64,
     "metadata": {},
     "output_type": "execute_result"
    }
   ],
   "source": [
    "# order does not matter\n",
    "test_2.format(end = 'bye', name = name)\n"
   ]
  },
  {
   "cell_type": "code",
   "execution_count": 65,
   "id": "818ac501",
   "metadata": {},
   "outputs": [
    {
     "data": {
      "text/plain": [
       "'My name is sepideh and I am 24 years old.'"
      ]
     },
     "execution_count": 65,
     "metadata": {},
     "output_type": "execute_result"
    }
   ],
   "source": [
    "# f-string\n",
    "name = 'sepideh'\n",
    "age = 24\n",
    "f\"My name is {name} and I am {age} years old.\""
   ]
  },
  {
   "cell_type": "code",
   "execution_count": 67,
   "id": "80ff9be0",
   "metadata": {},
   "outputs": [
    {
     "data": {
      "text/plain": [
       "'Sepideh Said: \"Hi\"!'"
      ]
     },
     "execution_count": 67,
     "metadata": {},
     "output_type": "execute_result"
    }
   ],
   "source": [
    "\"Sepideh Said: \\\"Hi\\\"!\""
   ]
  },
  {
   "cell_type": "code",
   "execution_count": 69,
   "id": "73cd6bb1",
   "metadata": {},
   "outputs": [
    {
     "name": "stdout",
     "output_type": "stream",
     "text": [
      "start \\n\n"
     ]
    }
   ],
   "source": [
    "# using raw string, escape sequences will not be translated\n",
    "print(r\"start \\n\")"
   ]
  }
 ],
 "metadata": {
  "kernelspec": {
   "display_name": "work",
   "language": "python",
   "name": "python3"
  },
  "language_info": {
   "codemirror_mode": {
    "name": "ipython",
    "version": 3
   },
   "file_extension": ".py",
   "mimetype": "text/x-python",
   "name": "python",
   "nbconvert_exporter": "python",
   "pygments_lexer": "ipython3",
   "version": "3.9.21"
  }
 },
 "nbformat": 4,
 "nbformat_minor": 5
}
